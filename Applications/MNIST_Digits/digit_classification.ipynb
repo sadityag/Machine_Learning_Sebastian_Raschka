{
 "cells": [
  {
   "cell_type": "markdown",
   "id": "c57906f1",
   "metadata": {},
   "source": [
    "The classic MNIST number dataset classification, done as an example."
   ]
  },
  {
   "cell_type": "code",
   "execution_count": 1,
   "id": "dbe4551c",
   "metadata": {},
   "outputs": [],
   "source": [
    "import torch\n",
    "from torch.utils.data import DataLoader, TensorDataset\n",
    "import torch.nn as nn\n",
    "\n",
    "import torchvision\n",
    "from torchvision import transforms"
   ]
  },
  {
   "cell_type": "code",
   "execution_count": 2,
   "id": "c211d004",
   "metadata": {},
   "outputs": [],
   "source": [
    "image_path = './'\n",
    "transform = transforms.Compose([transforms.ToTensor()])\n",
    "# If the dataset doesn't exist in this subdir, set download=True\n",
    "mnist_train_dataset = torchvision.datasets.MNIST(root=image_path, train=True, transform=transform, download=False)\n",
    "mnist_test_dataset = torchvision.datasets.MNIST(root=image_path, train=False, transform=transform, download=False)\n",
    "\n",
    "batch_size = 64\n",
    "torch.manual_seed(42)\n",
    "train_dl = DataLoader(mnist_train_dataset, batch_size, shuffle=True)"
   ]
  },
  {
   "cell_type": "code",
   "execution_count": 3,
   "id": "55a705b0",
   "metadata": {},
   "outputs": [
    {
     "data": {
      "text/plain": [
       "Sequential(\n",
       "  (0): Flatten(start_dim=1, end_dim=-1)\n",
       "  (1): Linear(in_features=784, out_features=32, bias=True)\n",
       "  (2): ReLU()\n",
       "  (3): Linear(in_features=32, out_features=16, bias=True)\n",
       "  (4): ReLU()\n",
       "  (5): Linear(in_features=16, out_features=10, bias=True)\n",
       ")"
      ]
     },
     "execution_count": 3,
     "metadata": {},
     "output_type": "execute_result"
    }
   ],
   "source": [
    "hidden_units = [32, 16]\n",
    "image_size = mnist_train_dataset[0][0].shape\n",
    "input_size = image_size[0] * image_size[1] * image_size[2]\n",
    "all_layers = [nn.Flatten()]\n",
    "for hidden_unit in hidden_units:\n",
    "    layer = nn.Linear(input_size, hidden_unit)\n",
    "    all_layers.append(layer)\n",
    "    all_layers.append(nn.ReLU())\n",
    "    input_size = hidden_unit\n",
    "all_layers.append(nn.Linear(hidden_units[-1], 10))\n",
    "model = nn.Sequential(*all_layers)\n",
    "model"
   ]
  },
  {
   "cell_type": "code",
   "execution_count": 4,
   "id": "c345a7e0",
   "metadata": {},
   "outputs": [
    {
     "name": "stdout",
     "output_type": "stream",
     "text": [
      "Epoch 1 Accuracy: 0.8397\n",
      "Epoch 2 Accuracy: 0.9267\n",
      "Epoch 3 Accuracy: 0.9405\n",
      "Epoch 4 Accuracy: 0.9495\n",
      "Epoch 5 Accuracy: 0.9549\n",
      "Epoch 6 Accuracy: 0.9593\n",
      "Epoch 7 Accuracy: 0.9630\n",
      "Epoch 8 Accuracy: 0.9656\n",
      "Epoch 9 Accuracy: 0.9675\n",
      "Epoch 10 Accuracy: 0.9704\n",
      "Epoch 11 Accuracy: 0.9722\n",
      "Epoch 12 Accuracy: 0.9738\n",
      "Epoch 13 Accuracy: 0.9754\n",
      "Epoch 14 Accuracy: 0.9762\n",
      "Epoch 15 Accuracy: 0.9772\n",
      "Epoch 16 Accuracy: 0.9791\n",
      "Epoch 17 Accuracy: 0.9797\n",
      "Epoch 18 Accuracy: 0.9812\n",
      "Epoch 19 Accuracy: 0.9822\n",
      "Epoch 20 Accuracy: 0.9824\n"
     ]
    }
   ],
   "source": [
    "loss_fn = nn.CrossEntropyLoss()\n",
    "optimizer = torch.optim.Adam(model.parameters(), lr=0.001)\n",
    "torch.manual_seed(1)\n",
    "\n",
    "num_epochs = 20\n",
    "\n",
    "for epoch in range(num_epochs):\n",
    "    accuracy_hist_train = 0\n",
    "    for x_batch, y_batch in train_dl:\n",
    "        pred = model(x_batch)\n",
    "        loss = loss_fn(pred, y_batch)\n",
    "        loss.backward()\n",
    "        optimizer.step()\n",
    "        optimizer.zero_grad()\n",
    "        is_correct = (\n",
    "        torch.argmax(pred, dim=1) == y_batch).float()\n",
    "        accuracy_hist_train += is_correct.sum()\n",
    "    accuracy_hist_train /= len(train_dl.dataset)\n",
    "    print(f'Epoch {epoch + 1} Accuracy: {accuracy_hist_train:.4f}')"
   ]
  },
  {
   "cell_type": "code",
   "execution_count": 5,
   "id": "3438f72a",
   "metadata": {},
   "outputs": [
    {
     "name": "stdout",
     "output_type": "stream",
     "text": [
      "Test accuracy: 0.9648\n"
     ]
    }
   ],
   "source": [
    "pred = model(mnist_test_dataset.data / 255.)\n",
    "is_correct = (torch.argmax(pred, dim=1) == mnist_test_dataset.targets).float()\n",
    "print(f'Test accuracy: {is_correct.mean():.4f}')"
   ]
  }
 ],
 "metadata": {
  "kernelspec": {
   "display_name": "dataexercises",
   "language": "python",
   "name": "python3"
  },
  "language_info": {
   "codemirror_mode": {
    "name": "ipython",
    "version": 3
   },
   "file_extension": ".py",
   "mimetype": "text/x-python",
   "name": "python",
   "nbconvert_exporter": "python",
   "pygments_lexer": "ipython3",
   "version": "3.12.3"
  }
 },
 "nbformat": 4,
 "nbformat_minor": 5
}
