{
 "cells": [
  {
   "cell_type": "markdown",
   "id": "97bfd45e",
   "metadata": {},
   "source": [
    "# Fuel Efficiency Prediction\n",
    "\n",
    "This dataset, auto-mpg, is a well known efficiency predictor benchmark dataset for cars. We will train a neural network to predict over this with a few simplistic assumptions."
   ]
  },
  {
   "cell_type": "code",
   "execution_count": 9,
   "id": "5ed3b25e",
   "metadata": {},
   "outputs": [],
   "source": [
    "import pandas as pd\n",
    "import numpy as np\n",
    "\n",
    "import matplotlib.pyplot as plt\n",
    "\n",
    "from sklearn.model_selection import train_test_split\n",
    "\n",
    "import torch\n",
    "import torch.nn as nn\n",
    "from torch.utils.data import DataLoader, TensorDataset\n",
    "from torch.nn.functional import one_hot"
   ]
  },
  {
   "cell_type": "code",
   "execution_count": 3,
   "id": "29f26c2d",
   "metadata": {},
   "outputs": [
    {
     "name": "stdout",
     "output_type": "stream",
     "text": [
      "<class 'pandas.core.frame.DataFrame'>\n",
      "RangeIndex: 398 entries, 0 to 397\n",
      "Data columns (total 8 columns):\n",
      " #   Column        Non-Null Count  Dtype  \n",
      "---  ------        --------------  -----  \n",
      " 0   MPG           398 non-null    float64\n",
      " 1   Cylinders     398 non-null    int64  \n",
      " 2   Displacement  398 non-null    float64\n",
      " 3   Horsepower    392 non-null    float64\n",
      " 4   Weight        398 non-null    float64\n",
      " 5   Acceleration  398 non-null    float64\n",
      " 6   Model Year    398 non-null    int64  \n",
      " 7   Origin        398 non-null    int64  \n",
      "dtypes: float64(5), int64(3)\n",
      "memory usage: 25.0 KB\n",
      "None\n"
     ]
    }
   ],
   "source": [
    "url = 'http://archive.ics.uci.edu/ml/machine-learning-databases/auto-mpg/auto-mpg.data'\n",
    "column_names = ['MPG', 'Cylinders', 'Displacement', 'Horsepower', 'Weight', 'Acceleration', 'Model Year', 'Origin']\n",
    "df =  pd.read_csv(url, names=column_names, na_values=\"?\", comment='\\t', sep=\" \", skipinitialspace=True)\n",
    "print(df.info())\n",
    "\n",
    "df = df.dropna()\n",
    "df = df.reset_index(drop=True)"
   ]
  },
  {
   "cell_type": "code",
   "execution_count": 8,
   "id": "e36816ce",
   "metadata": {},
   "outputs": [
    {
     "name": "stdout",
     "output_type": "stream",
     "text": [
      "      MPG  Cylinders  Displacement  ...  Acceleration  Model Year  Origin\n",
      "36   18.0   0.295098      0.334553  ...     -0.002855          71       1\n",
      "351  32.4  -0.859473     -0.822623  ...      0.461806          81       3\n",
      "28    9.0   1.449668      1.006461  ...      1.069440          70       1\n",
      "283  17.0   1.449668      1.015793  ...     -0.038598          79       1\n",
      "164  13.0   1.449668      0.987797  ...     -1.253865          75       1\n",
      "\n",
      "[5 rows x 8 columns]\n"
     ]
    },
    {
     "name": "stderr",
     "output_type": "stream",
     "text": [
      "C:\\Users\\sadit\\AppData\\Local\\Temp\\ipykernel_31960\\522915924.py:11: FutureWarning: Setting an item of incompatible dtype is deprecated and will raise in a future error of pandas. Value '[ 0.29509789  1.44966838 -0.8594726  -0.8594726  -0.8594726   0.29509789\n",
      " -0.8594726  -0.8594726  -0.8594726  -0.8594726  -0.8594726  -0.8594726\n",
      "  1.44966838 -0.8594726  -0.8594726  -0.8594726   0.29509789 -0.8594726\n",
      "  0.29509789  1.44966838  1.44966838  1.44966838 -0.8594726  -0.8594726\n",
      "  0.29509789  1.44966838 -0.8594726   0.29509789  0.29509789 -0.8594726\n",
      "  0.29509789  1.44966838  0.29509789  1.44966838 -0.8594726  -1.43675785\n",
      " -0.28218736  0.29509789  1.44966838  1.44966838  1.44966838  0.29509789\n",
      "  0.29509789 -0.8594726  -0.8594726  -0.8594726   0.29509789  1.44966838\n",
      "  1.44966838  1.44966838 -0.8594726  -0.8594726   1.44966838 -0.8594726\n",
      " -0.8594726  -0.8594726   0.29509789 -0.8594726   0.29509789  1.44966838\n",
      " -0.8594726   1.44966838  0.29509789 -0.8594726  -0.8594726   1.44966838\n",
      "  0.29509789 -0.8594726   1.44966838  1.44966838  1.44966838 -0.8594726\n",
      "  1.44966838 -0.8594726   0.29509789  1.44966838 -0.8594726   0.29509789\n",
      " -0.8594726   1.44966838  1.44966838  0.29509789 -0.8594726  -0.8594726\n",
      "  0.29509789  1.44966838 -0.8594726  -0.8594726  -0.8594726  -0.8594726\n",
      " -0.8594726  -0.8594726  -0.8594726   1.44966838 -0.8594726  -1.43675785\n",
      " -0.8594726   1.44966838 -0.8594726   0.29509789 -0.8594726  -0.8594726\n",
      " -0.8594726  -0.8594726   1.44966838 -0.8594726  -0.8594726   1.44966838\n",
      "  0.29509789  0.29509789 -0.8594726   1.44966838  1.44966838 -0.8594726\n",
      " -0.8594726   1.44966838  1.44966838  0.29509789 -0.8594726   1.44966838\n",
      " -0.8594726  -0.8594726   0.29509789  1.44966838 -0.8594726  -0.8594726\n",
      " -0.8594726   1.44966838 -0.8594726   0.29509789 -0.8594726   1.44966838\n",
      " -0.8594726  -0.8594726  -0.8594726  -0.8594726  -0.8594726  -0.8594726\n",
      "  1.44966838 -0.8594726   0.29509789  1.44966838  0.29509789 -0.8594726\n",
      "  0.29509789  1.44966838  1.44966838 -0.8594726  -0.8594726   0.29509789\n",
      "  0.29509789  0.29509789  1.44966838  1.44966838 -0.8594726  -0.8594726\n",
      " -0.28218736 -0.8594726   1.44966838 -0.8594726  -0.8594726   0.29509789\n",
      " -0.8594726   1.44966838  0.29509789 -0.8594726   0.29509789  0.29509789\n",
      "  1.44966838  1.44966838 -0.8594726  -0.8594726  -0.8594726   1.44966838\n",
      "  0.29509789 -0.8594726   1.44966838 -0.8594726   1.44966838 -1.43675785\n",
      " -0.8594726  -0.8594726   1.44966838 -0.8594726  -0.8594726  -0.8594726\n",
      "  1.44966838 -0.8594726  -0.8594726  -0.8594726  -0.8594726  -0.8594726\n",
      "  1.44966838  0.29509789 -0.8594726   1.44966838 -0.8594726   1.44966838\n",
      " -0.8594726   1.44966838 -0.8594726  -0.8594726   1.44966838 -0.8594726\n",
      " -0.8594726  -0.8594726   1.44966838 -0.8594726  -0.8594726  -0.8594726\n",
      " -0.8594726   1.44966838  1.44966838 -0.8594726   0.29509789  0.29509789\n",
      " -0.8594726  -0.8594726   0.29509789 -0.8594726   1.44966838  1.44966838\n",
      "  0.29509789  1.44966838  0.29509789 -0.8594726   1.44966838  0.29509789\n",
      " -0.8594726  -0.8594726  -0.8594726   1.44966838  0.29509789 -0.8594726\n",
      " -0.8594726  -0.8594726  -0.8594726  -0.8594726   1.44966838  0.29509789\n",
      "  1.44966838  0.29509789  0.29509789  1.44966838 -0.8594726  -0.8594726\n",
      " -0.8594726   1.44966838 -0.8594726   1.44966838 -0.8594726   1.44966838\n",
      "  0.29509789  1.44966838 -0.8594726  -0.8594726  -0.8594726   0.29509789\n",
      "  1.44966838  1.44966838 -0.8594726  -0.8594726  -0.8594726  -0.8594726\n",
      "  0.29509789  1.44966838  1.44966838  1.44966838  1.44966838 -0.8594726\n",
      " -0.8594726  -0.8594726  -0.8594726  -0.8594726   0.29509789 -0.8594726\n",
      "  1.44966838 -1.43675785 -0.8594726   0.29509789 -0.8594726   0.29509789\n",
      " -0.8594726  -0.8594726  -0.8594726  -0.8594726   0.29509789  0.29509789\n",
      " -0.8594726  -0.8594726   1.44966838 -0.8594726   0.29509789 -0.8594726\n",
      "  1.44966838 -0.8594726  -0.8594726  -0.8594726   0.29509789  0.29509789\n",
      " -0.8594726  -0.8594726  -0.8594726  -0.8594726  -0.8594726   0.29509789\n",
      " -0.8594726   1.44966838  0.29509789 -0.8594726   1.44966838  1.44966838\n",
      "  1.44966838]' has dtype incompatible with int64, please explicitly cast to a compatible dtype first.\n",
      "  df_train_std.loc[:, col_name] = (df_train_std.loc[:, col_name] - mean) / std;\n",
      "C:\\Users\\sadit\\AppData\\Local\\Temp\\ipykernel_31960\\522915924.py:12: FutureWarning: Setting an item of incompatible dtype is deprecated and will raise in a future error of pandas. Value '[-0.8594726  -0.8594726  -0.8594726  -0.8594726  -0.8594726   0.29509789\n",
      " -0.28218736 -0.8594726   0.29509789  1.44966838 -0.8594726   1.44966838\n",
      " -0.8594726  -0.8594726  -0.8594726   0.29509789 -0.8594726  -0.8594726\n",
      " -0.8594726   0.29509789  1.44966838  0.29509789  1.44966838  0.29509789\n",
      "  1.44966838 -0.8594726   0.29509789  1.44966838  1.44966838 -0.8594726\n",
      " -0.8594726   1.44966838  0.29509789  0.29509789 -0.8594726   0.29509789\n",
      " -0.8594726   1.44966838 -0.8594726  -0.8594726  -0.8594726  -0.8594726\n",
      " -0.8594726  -0.8594726   1.44966838  0.29509789 -0.8594726  -0.8594726\n",
      "  0.29509789  0.29509789  0.29509789 -0.8594726   0.29509789 -0.8594726\n",
      " -0.8594726  -0.8594726   0.29509789 -0.8594726  -0.8594726   0.29509789\n",
      "  0.29509789 -0.8594726   1.44966838 -0.8594726  -0.8594726   1.44966838\n",
      "  1.44966838  1.44966838 -0.8594726   0.29509789  1.44966838  1.44966838\n",
      "  0.29509789  1.44966838 -0.8594726  -0.8594726   0.29509789 -0.8594726\n",
      " -0.8594726 ]' has dtype incompatible with int64, please explicitly cast to a compatible dtype first.\n",
      "  df_test_std.loc[:, col_name] = (df_test_std.loc[:, col_name] - mean) / std;\n"
     ]
    }
   ],
   "source": [
    "df_train, df_test = train_test_split(df, test_size=0.2)\n",
    "train_stats = df_train.describe().transpose()\n",
    "numeric_column_names = ['Cylinders', 'Displacement', 'Horsepower', 'Weight', 'Acceleration']\n",
    "\n",
    "df_train_std, df_test_std = df_train.copy(), df_test.copy();\n",
    "\n",
    "for col_name in numeric_column_names:\n",
    "    mean = train_stats.loc[col_name, 'mean']\n",
    "    std = train_stats.loc[col_name, 'std']\n",
    "\n",
    "    df_train_std.loc[:, col_name] = (df_train_std.loc[:, col_name] - mean) / std;\n",
    "    df_test_std.loc[:, col_name] = (df_test_std.loc[:, col_name] - mean) / std;\n",
    "\n",
    "print(df_train_std.tail())"
   ]
  },
  {
   "cell_type": "code",
   "execution_count": 16,
   "id": "54a63fe2",
   "metadata": {},
   "outputs": [],
   "source": [
    "# The years from the tail print are littered between the 70s and early 80s\n",
    "# As an example, we can bucket them\n",
    "\n",
    "boundaries = torch.tensor([72, 74, 76, 78, 80]) # The buckets are < 72, 72 -74, 74 - 76 ... >= 80. torch uses boundaries with (lower, upper] by default\n",
    "v = torch.tensor(df_train_std['Model Year'].values)\n",
    "# right=False here sets the buckets to be inclusive of the lower bound and exclusive of the upper bound i.e. [lower, upper)\n",
    "df_train_std['Model Year Bucket'] = torch.bucketize(v, boundaries=boundaries, right=False)\n",
    "v = torch.tensor(df_test_std['Model Year'].values)\n",
    "df_test_std['Model Year Bucket'] = torch.bucketize(v, boundaries=boundaries, right=False)\n",
    "numeric_column_names.append('Model Year Bucket')\n",
    "\n",
    "\n",
    "# We can also convert inputs to a one-hot encoded format directly with torch for categorical data\n",
    "total_origin = len(set(df_train_std['Origin']))\n",
    "origin_encoded = one_hot(torch.from_numpy(df_train_std['Origin'].values) % total_origin)\n",
    "\n",
    "x_train_numeric = torch.tensor(df_train_std[numeric_column_names].values)\n",
    "x_train = torch.cat([x_train_numeric, origin_encoded], 1).float()\n",
    "\n",
    "origin_encoded = one_hot(torch.from_numpy(df_test_std['Origin'].values) % total_origin)\n",
    "\n",
    "x_test_numeric = torch.tensor(df_test_std[numeric_column_names].values)\n",
    "x_test = torch.cat([x_test_numeric, origin_encoded], 1).float()\n",
    "\n",
    "\n",
    "# Convert the results to torch tensors\n",
    "y_train = torch.tensor(df_train_std['MPG'].values).float()\n",
    "y_test = torch.tensor(df_test_std['MPG'].values).float()"
   ]
  },
  {
   "cell_type": "code",
   "execution_count": 17,
   "id": "18a93950",
   "metadata": {},
   "outputs": [],
   "source": [
    "train_ds = TensorDataset(x_train, y_train)\n",
    "batch_size = 8\n",
    "torch.manual_seed(42)\n",
    "train_dl = DataLoader(train_ds, batch_size=batch_size, shuffle=True)"
   ]
  },
  {
   "cell_type": "code",
   "execution_count": 22,
   "id": "e61aa6cc",
   "metadata": {},
   "outputs": [
    {
     "name": "stdout",
     "output_type": "stream",
     "text": [
      "Sequential(\n",
      "  (0): Linear(in_features=10, out_features=8, bias=True)\n",
      "  (1): ReLU()\n",
      "  (2): Linear(in_features=8, out_features=4, bias=True)\n",
      "  (3): ReLU()\n",
      "  (4): Linear(in_features=4, out_features=1, bias=True)\n",
      ")\n"
     ]
    }
   ],
   "source": [
    "# build the model\n",
    "\n",
    "hidden_units = [8, 4]\n",
    "input_size = x_train.shape[1]\n",
    "all_layers = []\n",
    "\n",
    "for hidden_unit in hidden_units:\n",
    "    layer = nn.Linear(input_size, hidden_unit)\n",
    "    all_layers.append(layer)\n",
    "    all_layers.append(nn.ReLU())\n",
    "    input_size = hidden_unit\n",
    "\n",
    "all_layers.append(nn.Linear(hidden_units[-1], 1))\n",
    "\n",
    "model = nn.Sequential(*all_layers)\n",
    "\n",
    "loss_fn = nn.MSELoss()\n",
    "optimizer = torch.optim.SGD(model.parameters(), lr=1e-3)\n",
    "\n",
    "print(model)"
   ]
  },
  {
   "cell_type": "code",
   "execution_count": null,
   "id": "903d3a54",
   "metadata": {},
   "outputs": [
    {
     "name": "stdout",
     "output_type": "stream",
     "text": [
      "Epoch 0 Loss: 225.0421\n",
      "Epoch 20 Loss: 9.4168\n",
      "Epoch 40 Loss: 8.4044\n",
      "Epoch 60 Loss: 8.1083\n",
      "Epoch 80 Loss: 8.6854\n",
      "Epoch 100 Loss: 8.5295\n",
      "Epoch 120 Loss: 8.2369\n",
      "Epoch 140 Loss: 8.5553\n",
      "Epoch 160 Loss: 8.5962\n",
      "Epoch 180 Loss: 7.8838\n"
     ]
    }
   ],
   "source": [
    "torch.manual_seed(42)\n",
    "\n",
    "num_epochs = 200\n",
    "log_epochs = num_epochs // 10\n",
    "\n",
    "# Training loop\n",
    "for epoch in range(num_epochs):\n",
    "    loss_hist_train = 0\n",
    "\n",
    "    for x_batch, y_batch in train_dl:\n",
    "        pred = model(x_batch)[:, 0]\n",
    "\n",
    "        loss = loss_fn(pred, y_batch)\n",
    "        loss.backward()\n",
    "\n",
    "        optimizer.step()\n",
    "        optimizer.zero_grad()\n",
    "\n",
    "        loss_hist_train += loss.item()\n",
    "    \n",
    "    if epoch % log_epochs == 0:\n",
    "        print(f'Epoch {epoch} Loss: {loss_hist_train / len(train_dl):.4f}')"
   ]
  },
  {
   "cell_type": "code",
   "execution_count": null,
   "id": "501d24e8",
   "metadata": {},
   "outputs": [
    {
     "name": "stdout",
     "output_type": "stream",
     "text": [
      "Test MSE: 13.1225\n",
      "Test MAE: 2.6589\n"
     ]
    }
   ],
   "source": [
    "# Now that the training is complete, we can test the model's predictions and see\n",
    "# how well we can predict the MPG of a car based on the inputs we are given\n",
    "with torch.no_grad():\n",
    "    pred = model(x_test.float())[:, 0]\n",
    "    loss = loss_fn(pred, y_test)\n",
    "    print(f'Test MSE: {loss.item():.4f}')\n",
    "    print(f'Test MAE: {nn.L1Loss()(pred, y_test).item():.4f}')"
   ]
  }
 ],
 "metadata": {
  "kernelspec": {
   "display_name": "dataexercises",
   "language": "python",
   "name": "python3"
  },
  "language_info": {
   "codemirror_mode": {
    "name": "ipython",
    "version": 3
   },
   "file_extension": ".py",
   "mimetype": "text/x-python",
   "name": "python",
   "nbconvert_exporter": "python",
   "pygments_lexer": "ipython3",
   "version": "3.12.3"
  }
 },
 "nbformat": 4,
 "nbformat_minor": 5
}
