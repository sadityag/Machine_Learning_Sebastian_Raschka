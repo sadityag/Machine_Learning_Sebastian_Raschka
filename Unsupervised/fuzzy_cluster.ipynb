{
 "cells": [
  {
   "cell_type": "markdown",
   "id": "9a92f807",
   "metadata": {},
   "source": [
    "Fuzzy clustering works very similarly to the k-means algorithm. In fact it is almost identical.\n",
    "\n",
    "Fuzzy clustering follows the following algorithm:\n",
    "1) Randomly pick $k$ data points as the initial cluster centers\n",
    "2) Assign each data point to the nearest initial cluster centers using a distance metric. Typically, for comparable data, we use the 2-norm: $d(x,y)^2 = ||x - y||_2^2$\n",
    "3) Assign the centroids **_membership probabilities_** by computing the center of each cluster\n",
    "4) Repeat 2, 3 until either cluster assignments do not change or until a tolerance hyperparameter/number of iterations hyperparamter has been achieved\n",
    "\n",
    "The only difference has been highlighted. In fact, we can assign a similar objective minimization $$J_m = \\sum_{i = 1}^n\\sum_{c = 1}^k w^{(i, c)^m} ||x^{(i)} - \\mu^{(c)}||_2^2,$$  where the $w^{(i, c)^m}$ is no longer a binary indicator of class membership, but a probability distribution for each class. $m$ here is an exponent, also known as a fuzziness coefficient (or the fuzzifier), which controls the degree of fuzziness. The larger the $m$ value, the smaller the cluster membership becomes, which leads to fuzzier clusters. We can compute this as $$w^{(i,c)} = \\left[ \\sum_{j = 1}^k \\left(\\frac{||x^{(i)} - \\mu ^{(c)}||_2}{||x^{(i)} - \\mu ^{(j)}||_2} \\right)^\\frac{2}{m-1} \\right]^{-1}.$$\n",
    "\n",
    "The centroids can be computed as $$\\mu^{(j)} = \\frac{\\sum_{i = 1}^n w^{(i, j)^m x^{(i)}}}{\\sum_{i = 1}^n w^{(i, j)^m}}.$$\n",
    "\n",
    "This is much more computationally expensive than k-means, but typically converges much faster.\n",
    "\n",
    "Fuzzy Clustering is not implemented in scikit learn but can be found in scipy.\n",
    "https://github.com/scikit-fuzzy/scikit-fuzzy."
   ]
  }
 ],
 "metadata": {
  "kernelspec": {
   "display_name": "dataexercises",
   "language": "python",
   "name": "python3"
  },
  "language_info": {
   "name": "python",
   "version": "3.13.2"
  }
 },
 "nbformat": 4,
 "nbformat_minor": 5
}
