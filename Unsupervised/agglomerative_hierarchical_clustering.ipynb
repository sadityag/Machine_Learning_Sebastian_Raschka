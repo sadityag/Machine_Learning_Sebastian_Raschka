{
 "cells": [
  {
   "cell_type": "markdown",
   "id": "a27ac759",
   "metadata": {},
   "source": [
    "Hierarchical clustering is an alternative to the $k$-means method, which doesn't require us to specify the number of clusters. It allows us to visualize and generate the interpretation of the results by using dendrograms (binary hierarchical clustering, which splits clusters into 2 at each hierarchy level).\n",
    "\n",
    "There are 2 main approaches: __aggolmerative__, which starts by treating each single datapoint as a cluster and then building up to a single cluster in hierarchies, and __divisive__ which starts off with the entire dataset as a single cluster, and then proceeds to go down the tree, splitting at each hierarchic \"node\".\n",
    "\n",
    "We will use this notebook to explore the agglomerative method."
   ]
  },
  {
   "cell_type": "markdown",
   "id": "9aaa151c",
   "metadata": {},
   "source": [
    "In agglomerative clustering, there are two standard algorithms - single linkage and complete linkage.\n",
    "\n",
    "- With single linkage, the distances between the most similar (closest distance) members of two clusters are computed, and then the two clusters whose distance between the most similar members is minimal are merged. That is, merge $C$, $C'$ if $$(C, C') = \\argmin_{C_1, C_2} \\min_{x \\in C_1, y \\in C_2} d(x,y)$$\n",
    "\n",
    "- Complete linkage is very similar, but the intercluster distance considered is between the most dissimlar (farthest) members of two clusters. That is merge $C$, $C'$ if $$(C, C') = \\argmin_{C_1, C_2} \\max_{x \\in C_1, y \\in C_2} d(x,y)$$\n",
    "\n",
    "There are other types of linkages considered, such as average linkage (which replaces the min or max intercluster distance with the average intercluster distance), and Ward's linkage (which instead optimizes over inertia/within cluster SSE, merging based on the pair of clusters that cause it to increase minimally.)"
   ]
  },
  {
   "cell_type": "markdown",
   "id": "693ceffa",
   "metadata": {},
   "source": [
    "The algorithm for the hierarchichal agglomerative clustering (with the consideration of L linkage, where L can be single, complete, average or Ward's).\n",
    "\n",
    "1) Compute a pair-wise distance matrix of all examples/data points.\n",
    "2) Represent each datapoint as a singleton cluster.\n",
    "3) Merge the two closest clusters based on the L linkage criterion.\n",
    "4) Update the cluster linkage matrix.\n",
    "5) Repeat 2-4 until only one cluster remains."
   ]
  },
  {
   "cell_type": "code",
   "execution_count": 8,
   "id": "2d066f52",
   "metadata": {},
   "outputs": [
    {
     "name": "stdout",
     "output_type": "stream",
     "text": [
      "             X         Y         Z\n",
      "ID_0  3.745401  9.507143  7.319939\n",
      "ID_1  5.986585  1.560186  1.559945\n",
      "ID_2  0.580836  8.661761  6.011150\n",
      "ID_3  7.080726  0.205845  9.699099\n",
      "ID_4  8.324426  2.123391  1.818250\n"
     ]
    }
   ],
   "source": [
    "# Let's create our own dataset example\n",
    "import pandas as pd\n",
    "import numpy as np\n",
    "import matplotlib.pyplot as plt\n",
    "\n",
    "np.random.seed(42)\n",
    "variables = ['X', 'Y', 'Z']\n",
    "labels = ['ID_0', 'ID_1', 'ID_2', 'ID_3', 'ID_4']\n",
    "X = np.random.random_sample([5, 3])*10\n",
    "df = pd.DataFrame(X, columns=variables, index=labels)\n",
    "print(df)"
   ]
  },
  {
   "cell_type": "code",
   "execution_count": 9,
   "id": "7a7b60cd",
   "metadata": {},
   "outputs": [
    {
     "name": "stdout",
     "output_type": "stream",
     "text": [
      "           ID_0       ID_1       ID_2       ID_3       ID_4\n",
      "ID_0   0.000000  10.067500   3.527332  10.163608  10.283767\n",
      "ID_1  10.067500   0.000000   9.973350   8.323293   2.418558\n",
      "ID_2   3.527332   9.973350   0.000000  11.285037  10.967857\n",
      "ID_3  10.163608   8.323293  11.285037   0.000000   8.205581\n",
      "ID_4  10.283767   2.418558  10.967857   8.205581   0.000000\n",
      "[10.06750007  3.52733207 10.16360836 10.28376658  9.97335012  8.32329273\n",
      "  2.41855823 11.28503669 10.9678572   8.20558061]\n"
     ]
    }
   ],
   "source": [
    "# Compute the pair-wise distance matrix\n",
    "from scipy.spatial.distance import pdist, squareform\n",
    "# pdist returns the upper triangular matrix representing the pairwise distances between rows as an array\n",
    "# squareform is more for our visualization - creates a symmetric matrix out of it\n",
    "\n",
    "pair_dists = pdist(df, metric='euclidean')\n",
    "row_dist = pd.DataFrame(squareform(pdist(df, metric='euclidean')), columns=labels, index=labels)\n",
    "print(row_dist)\n",
    "print(pair_dists)"
   ]
  },
  {
   "cell_type": "code",
   "execution_count": 10,
   "id": "15673ce7",
   "metadata": {},
   "outputs": [
    {
     "name": "stdout",
     "output_type": "stream",
     "text": [
      "           row label 1  row label 2       dist  num examples in cluster\n",
      "cluster 1          1.0          4.0   2.418558                      2.0\n",
      "cluster 2          0.0          2.0   3.527332                      2.0\n",
      "cluster 3          3.0          5.0   8.323293                      3.0\n",
      "cluster 4          6.0          7.0  11.285037                      5.0\n"
     ]
    }
   ],
   "source": [
    "from scipy.cluster.hierarchy import linkage\n",
    "\n",
    "row_clusters = linkage(df.values, method='complete', metric='euclidean')\n",
    "\n",
    "print(pd.DataFrame(row_clusters, columns=['row label 1', 'row label 2', 'dist', 'num examples in cluster'], index=[f'cluster {(i + 1)}' for i in range(row_clusters.shape[0])]))"
   ]
  },
  {
   "cell_type": "code",
   "execution_count": 11,
   "id": "14f3b6db",
   "metadata": {},
   "outputs": [
    {
     "data": {
      "image/png": "[encoded data removed]",
      "text/plain": [
       "<Figure size 640x480 with 1 Axes>"
      ]
     },
     "metadata": {},
     "output_type": "display_data"
    }
   ],
   "source": [
    "from scipy.cluster.hierarchy import dendrogram\n",
    "\n",
    "row_dendro = dendrogram(row_clusters, labels=labels)\n",
    "plt.tight_layout()\n",
    "plt.ylabel('Euclidean Distance')\n",
    "plt.show()"
   ]
  },
  {
   "cell_type": "code",
   "execution_count": 13,
   "id": "fa2250e0",
   "metadata": {},
   "outputs": [
    {
     "name": "stderr",
     "output_type": "stream",
     "text": [
      "C:\\Users\\sadit\\AppData\\Local\\Temp\\ipykernel_12052\\3849823388.py:30: UserWarning: set_ticklabels() should only be used with a fixed number of ticks, i.e. after set_ticks() or using a FixedLocator.\n",
      "  axh.set_xticklabels([''] + list(df_rowclustered.columns))\n",
      "C:\\Users\\sadit\\AppData\\Local\\Temp\\ipykernel_12052\\3849823388.py:32: UserWarning: set_ticklabels() should only be used with a fixed number of ticks, i.e. after set_ticks() or using a FixedLocator.\n",
      "  axh.set_yticklabels([''] + list(df_rowclustered.index))\n"
     ]
    },
    {
     "data": {
      "image/png": "[encoded data removed]",
      "text/plain": [
       "<Figure size 800x800 with 3 Axes>"
      ]
     },
     "metadata": {},
     "output_type": "display_data"
    }
   ],
   "source": [
    "# Dendrograms can also be attached to a heatmap, which is commonplace in practical applications\n",
    "\n",
    "# Create the denrogram image\n",
    "fig = plt.figure(figsize=(8, 8), facecolor='white')\n",
    "# Define the x_axis and y_axis positions, and the width and height\n",
    "axd = fig.add_axes([0.09, 0.1, 0.2, 0.6])\n",
    "# Rotate the dendrogram \n",
    "row_dendro = dendrogram(row_clusters, orientation='left')\n",
    "\n",
    "\n",
    "# Reorder the original dataframe according to the dendogram ordering (accessible from dendrogram leaves object)\n",
    "df_rowclustered = df.iloc[row_dendro['leaves'][::-1]]\n",
    "\n",
    "# Create heatmap from the reorderd dataframe\n",
    "axh = fig.add_axes([0.23, 0.1, 0.6, 0.6])\n",
    "clr_ax = axh.matshow(df_rowclustered, interpolation='nearest', cmap='coolwarm')\n",
    "\n",
    "# Remove dendrogram plot ticks\n",
    "axd.set_xticks([])\n",
    "axd.set_yticks([])\n",
    "\n",
    "# Hide axis spines\n",
    "for i in axd.spines.values():\n",
    "    i.set_visible(False)\n",
    "\n",
    "# Set colorbar\n",
    "fig.colorbar(clr_ax)\n",
    "\n",
    "# Set heatmap x labels from the feature labels of datapoint\n",
    "axh.set_xticklabels([''] + list(df_rowclustered.columns))\n",
    "# Use the Row ID to set y_ticks\n",
    "axh.set_yticklabels([''] + list(df_rowclustered.index))\n",
    "\n",
    "plt.show()"
   ]
  },
  {
   "cell_type": "code",
   "execution_count": 19,
   "id": "396039c7",
   "metadata": {},
   "outputs": [
    {
     "name": "stdout",
     "output_type": "stream",
     "text": [
      "Labels: [('ID_0', np.int64(0)), ('ID_1', np.int64(1)), ('ID_2', np.int64(0)), ('ID_3', np.int64(2)), ('ID_4', np.int64(1))]\n"
     ]
    }
   ],
   "source": [
    "# There is a scikit learn implementation of Agglomerative Clustering\n",
    "\n",
    "from sklearn.cluster import AgglomerativeClustering\n",
    "\n",
    "ac = AgglomerativeClustering(n_clusters=3, metric='euclidean', linkage='complete')\n",
    "\n",
    "labels = ac.fit_predict(X)\n",
    "print(f\"Labels: {list(zip(df.index, labels))}\")"
   ]
  },
  {
   "cell_type": "code",
   "execution_count": 20,
   "id": "f459456d",
   "metadata": {},
   "outputs": [
    {
     "name": "stdout",
     "output_type": "stream",
     "text": [
      "Labels: [('ID_0', np.int64(1)), ('ID_1', np.int64(0)), ('ID_2', np.int64(1)), ('ID_3', np.int64(0)), ('ID_4', np.int64(0))]\n"
     ]
    }
   ],
   "source": [
    "# This clearly matches the dendrogram above. (1, 4), (0, 2), (3)\n",
    "# If we chop it down to 2 clusters, we expect (3) to be merged into (1, 3, 4) based on the dendrogram hierarchy\n",
    "\n",
    "ac = AgglomerativeClustering(n_clusters=2, metric='euclidean', linkage='complete')\n",
    "\n",
    "labels = ac.fit_predict(X)\n",
    "print(f\"Labels: {list(zip(df.index, labels))}\")"
   ]
  }
 ],
 "metadata": {
  "kernelspec": {
   "display_name": "dataexercises",
   "language": "python",
   "name": "python3"
  },
  "language_info": {
   "codemirror_mode": {
    "name": "ipython",
    "version": 3
   },
   "file_extension": ".py",
   "mimetype": "text/x-python",
   "name": "python",
   "nbconvert_exporter": "python",
   "pygments_lexer": "ipython3",
   "version": "3.13.2"
  }
 },
 "nbformat": 4,
 "nbformat_minor": 5
}
