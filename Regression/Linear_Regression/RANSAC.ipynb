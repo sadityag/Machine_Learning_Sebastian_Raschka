{
 "cells": [
  {
   "cell_type": "markdown",
   "id": "c16b83b4",
   "metadata": {},
   "source": [
    "RANSAC stands for RANdom SAmple Consensus, which uses random sampling and fitting to reduce the influences of outliers.\n",
    "RANSAC selects a random number of examples to be inliers and fit a linear regression to it. The rest of the points are tested, and up to a user defined (hyperparameter) tolerance/distance, the test points are classified as inliers versus those that lie outside. Estimate the model error versus the inliers. If this doesn't produce an accurate enough model, restart the process."
   ]
  },
  {
   "cell_type": "code",
   "execution_count": null,
   "id": "85aa287c",
   "metadata": {},
   "outputs": [],
   "source": [
    "import pandas as pd\n",
    "import numpy as np\n",
    "import matplotlib.pyplot as plt\n",
    "import seaborn as sns"
   ]
  },
  {
   "cell_type": "code",
   "execution_count": null,
   "id": "44bc9f67",
   "metadata": {},
   "outputs": [],
   "source": [
    "# We will use the AMES housing dataset by Dean De Cock\n",
    "\n",
    "df = pd.read_csv('http://jse.amstat.org/v19n3/decock/AmesHousing.txt', sep='\\t') # Tab separated\n",
    "# This is unnecessarily large, so let's pick out a subset of 5 variables, along wit the target\n",
    "columns = ['Overall Qual', 'Overall Cond', 'Gr Liv Area', 'Central Air', 'Total Bsmt SF', 'SalePrice']\n",
    "\n",
    "df = df[columns]\n",
    "\n",
    "# There is only one missing entry. Let's drop that row, since we have a large enough dataset\n",
    "df = df.dropna(axis=0)\n",
    "# Let's encode the central air conditioning variable\n",
    "df['Central Air'] = df['Central Air'].map({'N': 0, 'Y': 1})"
   ]
  },
  {
   "cell_type": "code",
   "execution_count": null,
   "id": "406ba350",
   "metadata": {},
   "outputs": [],
   "source": [
    "from sklearn.model_selection import train_test_split\n",
    "# Let's start with a 1D example, with the Gr Liv Area\n",
    "from sklearn.linear_model import RANSACRegressor, LinearRegression\n",
    "\n",
    "X = df[['Gr Liv Area']].values\n",
    "y = df['SalePrice'].values\n",
    "\n",
    "X_train, X_test, y_train, y_test = train_test_split(X, y, test_size=0.3)\n",
    "\n",
    "ransac = RANSACRegressor(LinearRegression(),\n",
    "                         max_trials=100, # Number of RANSAC iterations to perform\n",
    "                         min_samples=0.95, # Number of randomly chosen data points need to make up at least 95% of the dataset\n",
    "                         residual_threshold=None, # sklearn defaults to Mean Absolute Deviation of the target \n",
    "                         random_state=1)\n",
    "\n",
    "# The residual threshold is a model specific criterion that needs to be adapted appropriately\n",
    "\n",
    "ransac.fit(X, y)"
   ]
  },
  {
   "cell_type": "code",
   "execution_count": null,
   "id": "29c38c32",
   "metadata": {},
   "outputs": [],
   "source": []
  }
 ],
 "metadata": {
  "kernelspec": {
   "display_name": "dataexercises",
   "language": "python",
   "name": "python3"
  },
  "language_info": {
   "name": "python",
   "version": "3.13.2"
  }
 },
 "nbformat": 4,
 "nbformat_minor": 5
}
