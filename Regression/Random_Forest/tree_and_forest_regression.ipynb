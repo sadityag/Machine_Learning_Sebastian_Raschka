{
 "cells": [
  {
   "cell_type": "markdown",
   "id": "ca9e0a8d",
   "metadata": {},
   "source": [
    "We start with decision trees. It works exactly the same way as with classification, splitting by information gain per feature, with entorpy as a criteria or Gini for classification. The choice of split is dictated by the maximal information gain, but for regression, the MSE is used. In this case, the MSE is known as the within-node variance. The splitting criteria is also known as variance reduction."
   ]
  },
  {
   "cell_type": "code",
   "execution_count": null,
   "id": "24c3852b",
   "metadata": {},
   "outputs": [],
   "source": [
    "import pandas as pd\n",
    "import numpy as np\n",
    "import seaborn as sns\n",
    "import matplotlib.pyplot as plt\n",
    "\n",
    "from sklearn.model_selection import train_test_split\n",
    "from sklearn.linear_model import LinearRegression"
   ]
  },
  {
   "cell_type": "code",
   "execution_count": null,
   "id": "d5da5c22",
   "metadata": {},
   "outputs": [],
   "source": [
    "# We will use the AMES housing dataset by Dean De Cock\n",
    "\n",
    "df = pd.read_csv('http://jse.amstat.org/v19n3/decock/AmesHousing.txt', sep='\\t') # Tab separated\n",
    "# This is unnecessarily large, so let's pick out a subset of 5 variables, along wit the target\n",
    "columns = ['Overall Qual', 'Overall Cond', 'Gr Liv Area', 'Central Air', 'Total Bsmt SF', 'SalePrice']\n",
    "\n",
    "df = df[columns]\n",
    "\n",
    "# There is only one missing entry. Let's drop that row, since we have a large enough dataset\n",
    "df = df.dropna(axis=0)\n",
    "# Let's encode the central air conditioning variable\n",
    "df['Central Air'] = df['Central Air'].map({'N': 0, 'Y': 1})"
   ]
  },
  {
   "cell_type": "code",
   "execution_count": null,
   "id": "325e91b0",
   "metadata": {},
   "outputs": [],
   "source": [
    "X = df[['Gr Liv Area']].values\n",
    "y = df['SalePrice'].values\n",
    "\n",
    "X_train, X_test, y_train, y_test = train_test_split(X, y, test_size=0.3, random_state=123)"
   ]
  }
 ],
 "metadata": {
  "kernelspec": {
   "display_name": "dataexercises",
   "language": "python",
   "name": "python3"
  },
  "language_info": {
   "name": "python",
   "version": "3.13.2"
  }
 },
 "nbformat": 4,
 "nbformat_minor": 5
}
