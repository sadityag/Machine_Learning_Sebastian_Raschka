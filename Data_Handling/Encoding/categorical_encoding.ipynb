{
 "cells": [
  {
   "cell_type": "code",
   "execution_count": 1,
   "id": "2cce1f95",
   "metadata": {},
   "outputs": [],
   "source": [
    "import pandas as pd"
   ]
  },
  {
   "cell_type": "code",
   "execution_count": 2,
   "id": "352c7eda",
   "metadata": {},
   "outputs": [
    {
     "name": "stdout",
     "output_type": "stream",
     "text": [
      "   color size  price classlabel\n",
      "0  green    M   10.1     class2\n",
      "1    red    L   13.5     class1\n",
      "2   blue   XL   15.3     class2\n"
     ]
    }
   ],
   "source": [
    "df = pd.DataFrame([['green', 'M', 10.1, 'class2'],\n",
    "... ['red', 'L', 13.5, 'class1'],\n",
    "... ['blue', 'XL', 15.3, 'class2']])\n",
    "df.columns  = ['color', 'size', 'price', 'classlabel']\n",
    "\n",
    "print(df)"
   ]
  },
  {
   "cell_type": "code",
   "execution_count": 3,
   "id": "86e2d017",
   "metadata": {},
   "outputs": [
    {
     "name": "stdout",
     "output_type": "stream",
     "text": [
      "0    1\n",
      "1    2\n",
      "2    3\n",
      "Name: size, dtype: int64\n",
      "   color size  price classlabel\n",
      "0  green    M   10.1     class2\n",
      "1    red    L   13.5     class1\n",
      "2   blue   XL   15.3     class2\n",
      "   color  price classlabel  x > M  x > L\n",
      "0  green   10.1     class2      0      0\n",
      "1    red   13.5     class1      1      0\n",
      "2   blue   15.3     class2      1      1\n"
     ]
    }
   ],
   "source": [
    "# Map ordinal features\n",
    "size_mapping = {'XL': 3, 'L': 2, 'M': 1}\n",
    "print(df['size'].map(size_mapping))\n",
    "inverse_size_mapping = {v: k for k, v in size_mapping.items()}\n",
    "\n",
    "# If we are unsure about the numerical differences between features/they are ill defined\n",
    "# we can simply use a dummy variable x and create columns for x > M and x > L that take binary values\n",
    "\n",
    "copied_df = df.copy(deep=True)\n",
    "copied_df['x > M'] = copied_df['size'].apply(lambda x: 1 if x in ['L', 'XL'] else 0)\n",
    "copied_df['x > L'] = copied_df['size'].apply(lambda x: 1 if x == 'XL' else 0)\n",
    "del copied_df['size']\n",
    "print(df)\n",
    "print(copied_df)"
   ]
  },
  {
   "cell_type": "code",
   "execution_count": 4,
   "id": "a9d0b53a",
   "metadata": {},
   "outputs": [
    {
     "name": "stdout",
     "output_type": "stream",
     "text": [
      "   color size  price  classlabel\n",
      "0  green    M   10.1           0\n",
      "1    red    L   13.5           1\n",
      "2   blue   XL   15.3           0\n",
      "   color size  price classlabel\n",
      "0  green    M   10.1     class2\n",
      "1    red    L   13.5     class1\n",
      "2   blue   XL   15.3     class2\n",
      "[1 0 1]\n",
      "['class2' 'class1' 'class2']\n"
     ]
    }
   ],
   "source": [
    "# Class labels mapping\n",
    "class_mapping = {label: idx for idx, label in enumerate(df['classlabel'].unique())}\n",
    "df['classlabel'] = df['classlabel'].map(class_mapping)\n",
    "print(df)\n",
    "\n",
    "inv_class_mapping = {v: k for k, v in class_mapping.items()}\n",
    "df['classlabel'] = df['classlabel'].map(inv_class_mapping)\n",
    "print(df)\n",
    "\n",
    "\n",
    "# Or use sklearn\n",
    "from sklearn.preprocessing import LabelEncoder\n",
    "class_le = LabelEncoder()\n",
    "y = class_le.fit_transform(df['classlabel'].values)\n",
    "print(y)\n",
    "\n",
    "print(class_le.inverse_transform(y))"
   ]
  },
  {
   "cell_type": "code",
   "execution_count": 5,
   "id": "dc8678fd",
   "metadata": {},
   "outputs": [
    {
     "name": "stdout",
     "output_type": "stream",
     "text": [
      "['green' 'red' 'blue']\n",
      "[['green']\n",
      " ['red']\n",
      " ['blue']]\n",
      "[[0. 1. 0.]\n",
      " [0. 0. 1.]\n",
      " [1. 0. 0.]]\n"
     ]
    }
   ],
   "source": [
    "# For non-ordinal/nominal features, one-hot encoding would be better\n",
    "# Otherwise, label encoding RGB as 0,1,2 would somehow imply that R < G < B - not true\n",
    "\n",
    "from sklearn.preprocessing import OneHotEncoder\n",
    "\n",
    "color_ohe = OneHotEncoder()\n",
    "\n",
    "X = df[['color', 'size', 'price']].values\n",
    "print(X[:, 0])\n",
    "print(X[:, 0].reshape(-1, 1))\n",
    "\n",
    "print(color_ohe.fit_transform(X[:, 0].reshape(-1, 1)).toarray())"
   ]
  },
  {
   "cell_type": "code",
   "execution_count": 6,
   "id": "dee107b7",
   "metadata": {},
   "outputs": [
    {
     "name": "stdout",
     "output_type": "stream",
     "text": [
      "[[ 0.   1.   0.   1.  10.1]\n",
      " [ 0.   0.   1.   2.  13.5]\n",
      " [ 1.   0.   0.   3.  15.3]]\n"
     ]
    }
   ],
   "source": [
    "# We can also do all columns at the same time\n",
    "from sklearn.compose import ColumnTransformer\n",
    "from sklearn.preprocessing import OneHotEncoder\n",
    "\n",
    "size_mapping = {'XL': 3, 'L': 2, 'M': 1}\n",
    "df['size'] = df['size'].map(size_mapping)\n",
    "\n",
    "X = df[['color', 'size', 'price']].values\n",
    "\n",
    "# Column transformer takes in a list of tupeles of (name, transformer, columns)\n",
    "c_transform = ColumnTransformer([('onehot', OneHotEncoder(), [0]), ('nothing', 'passthrough', [1, 2])])\n",
    "\n",
    "print(c_transform.fit_transform(X).astype(float))"
   ]
  },
  {
   "cell_type": "code",
   "execution_count": 7,
   "id": "6e888112",
   "metadata": {},
   "outputs": [
    {
     "name": "stdout",
     "output_type": "stream",
     "text": [
      "   size  price  color_blue  color_green  color_red\n",
      "0   1.0   10.1         0.0          1.0        0.0\n",
      "1   2.0   13.5         0.0          0.0        1.0\n",
      "2   3.0   15.3         1.0          0.0        0.0\n",
      "   size  price  color_green  color_red\n",
      "0   1.0   10.1          1.0        0.0\n",
      "1   2.0   13.5          0.0        1.0\n",
      "2   3.0   15.3          0.0        0.0\n"
     ]
    }
   ],
   "source": [
    "# Another way is to use the get_dummies feature from pandas\n",
    "print(pd.get_dummies(df[['color', 'size', 'price']]).astype(float))\n",
    "\n",
    "# The problem with one-hot encoding this way is the introduction of linear dependence between R, G, B. Since if R = 0, G, = 0 then it must be B\n",
    "# To avoid this, we can use drop_first\n",
    "print(pd.get_dummies(df[['color', 'size', 'price']], drop_first=True).astype(float))\n",
    "\n",
    "# This can also be done with scikit learn by using\n",
    "color_ohe = OneHotEncoder(categories='auto', drop='first')"
   ]
  }
 ],
 "metadata": {
  "kernelspec": {
   "display_name": "dataexercises",
   "language": "python",
   "name": "python3"
  },
  "language_info": {
   "codemirror_mode": {
    "name": "ipython",
    "version": 3
   },
   "file_extension": ".py",
   "mimetype": "text/x-python",
   "name": "python",
   "nbconvert_exporter": "python",
   "pygments_lexer": "ipython3",
   "version": "3.13.2"
  }
 },
 "nbformat": 4,
 "nbformat_minor": 5
}
