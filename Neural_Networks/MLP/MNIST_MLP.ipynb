{
 "cells": [
  {
   "cell_type": "code",
   "execution_count": 11,
   "id": "78bf7d67",
   "metadata": {},
   "outputs": [],
   "source": [
    "from sklearn.datasets import fetch_openml\n",
    "from manualMLP import NeuralMLP\n",
    "import matplotlib.pyplot as plt\n",
    "from sklearn.model_selection import train_test_split\n",
    "import numpy as np"
   ]
  },
  {
   "cell_type": "code",
   "execution_count": 4,
   "id": "78c41257",
   "metadata": {},
   "outputs": [
    {
     "name": "stdout",
     "output_type": "stream",
     "text": [
      "(70000, 784)\n",
      "(70000,)\n"
     ]
    }
   ],
   "source": [
    "X, y = fetch_openml('mnist_784', version=1, return_X_y=True)\n",
    "X = X.values\n",
    "y = y.astype(int).values\n",
    "\n",
    "print(X.shape)\n",
    "print(y.shape)\n",
    "\n",
    "# normalize X to have features between -1 and 1 - this  stabilizes gradient based updates just like normalizing\n",
    "# but -1 to 1 works better with pixels typically\n",
    "# X ranges from 0 to 255 (8-bit encoding for B/W images)\n",
    "X = ((X / 255.) - 0.5) *2"
   ]
  },
  {
   "cell_type": "code",
   "execution_count": 7,
   "id": "d6db4928",
   "metadata": {},
   "outputs": [
    {
     "data": {
      "image/png": "[encoded data removed]",
      "text/plain": [
       "<Figure size 640x480 with 10 Axes>"
      ]
     },
     "metadata": {},
     "output_type": "display_data"
    },
    {
     "name": "stdout",
     "output_type": "stream",
     "text": [
      "This is just one example - people write each number with different handwriting, and different styles\n"
     ]
    }
   ],
   "source": [
    "fig, ax = plt.subplots(nrows=2, ncols=5, sharex=True, sharey=True)\n",
    "\n",
    "ax = ax.flatten()\n",
    "\n",
    "for i in range(10):\n",
    "    img = X[y==i][0].reshape(28, 28)\n",
    "    ax[i].imshow(img, cmap='Greys')\n",
    "ax[0].set_xticks([])\n",
    "ax[0].set_yticks([])\n",
    "plt.tight_layout()\n",
    "plt.show()\n",
    "\n",
    "print(\"This is just one example - people write each number with different handwriting, and different styles\")"
   ]
  },
  {
   "cell_type": "code",
   "execution_count": 9,
   "id": "dcb08fbe",
   "metadata": {},
   "outputs": [],
   "source": [
    "# We have 70,000 images - split 10000 away for testing\n",
    "X_temp, X_test, y_temp, y_test = train_test_split(\n",
    "    X, y, test_size=10000, random_state=123, stratify=y\n",
    ")\n",
    "# Split 5000 away for validation, and keep the rest for training\n",
    "X_train, X_valid, y_train, y_valid = train_test_split(\n",
    "    X_temp, y_temp, test_size=5000, random_state=123, stratify=y_temp\n",
    ")"
   ]
  },
  {
   "cell_type": "code",
   "execution_count": 10,
   "id": "ef0326d8",
   "metadata": {},
   "outputs": [],
   "source": [
    "model = NeuralMLP(num_features=28*28, num_hidden=50, num_classes=10)"
   ]
  },
  {
   "cell_type": "code",
   "execution_count": 12,
   "id": "f31025dc",
   "metadata": {},
   "outputs": [],
   "source": [
    "num_epochs = 50\n",
    "minibatch_size = 100\n",
    "\n",
    "def generate_minibatch(X, y, batch_size=minibatch_size):\n",
    "    indices = np.arange(X.shape[0])\n",
    "    np.random.shuffle(indices)\n",
    "    for start_idx in range(0, indices.shape[0] - batch_size + 1, batch_size):\n",
    "        batch_idx = indices[start_idx:start_idx + batch_size]\n",
    "        yield X[batch_idx], y[batch_idx]"
   ]
  },
  {
   "cell_type": "code",
   "execution_count": null,
   "id": "7895acd7",
   "metadata": {},
   "outputs": [],
   "source": [
    "def mse(targets, probs, n_labels=10):\n",
    "    onehot_targets = model.int_to_onehot()"
   ]
  }
 ],
 "metadata": {
  "kernelspec": {
   "display_name": "dataexercises",
   "language": "python",
   "name": "python3"
  },
  "language_info": {
   "codemirror_mode": {
    "name": "ipython",
    "version": 3
   },
   "file_extension": ".py",
   "mimetype": "text/x-python",
   "name": "python",
   "nbconvert_exporter": "python",
   "pygments_lexer": "ipython3",
   "version": "3.13.2"
  }
 },
 "nbformat": 4,
 "nbformat_minor": 5
}
