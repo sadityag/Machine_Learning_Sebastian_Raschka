{
 "cells": [
  {
   "cell_type": "markdown",
   "id": "fefdd07d",
   "metadata": {},
   "source": [
    "# IDMb Sentiment Analysis\n",
    "\n",
    "Modeling the sentiment of movie reviews is an exercise in NLP based analyses, for which RNNs are a very suitable tool. This notebook will consider the IMDb dataset from torchvision and perform an RNN based sentiment analysis on it."
   ]
  },
  {
   "cell_type": "code",
   "execution_count": 1,
   "id": "944fb11a",
   "metadata": {},
   "outputs": [
    {
     "name": "stderr",
     "output_type": "stream",
     "text": [
      "c:\\Users\\sadit\\miniconda3\\envs\\torchtextenv\\lib\\site-packages\\tqdm\\auto.py:21: TqdmWarning: IProgress not found. Please update jupyter and ipywidgets. See https://ipywidgets.readthedocs.io/en/stable/user_install.html\n",
      "  from .autonotebook import tqdm as notebook_tqdm\n"
     ]
    }
   ],
   "source": [
    "import torch\n",
    "import torch.nn as nn\n",
    "\n",
    "from torch.utils.data.dataset import random_split\n",
    "from torch.utils.data import DataLoader\n",
    "\n",
    "# torchtext is deprecated and will not be compatible with pytorch with cuda\n",
    "# from torchtext.data import Field, LabelField\n",
    "from torchtext.datasets import IMDB\n",
    "from torchtext.vocab import vocab\n",
    "\n",
    "import re\n",
    "\n",
    "from collections import Counter, OrderedDict"
   ]
  },
  {
   "cell_type": "code",
   "execution_count": 2,
   "id": "f79915fb",
   "metadata": {},
   "outputs": [],
   "source": [
    "# There are 25,000 examples in the training dataset\n",
    "train_data = IMDB(split='train')\n",
    "test_data = IMDB(split='test')\n",
    "\n",
    "torch.manual_seed(42)\n",
    "\n",
    "train_data, valid_data = random_split(list(train_data), [20000, 5000])"
   ]
  },
  {
   "cell_type": "code",
   "execution_count": 3,
   "id": "bb6da403",
   "metadata": {},
   "outputs": [
    {
     "name": "stdout",
     "output_type": "stream",
     "text": [
      "Vocabulary size: 69209\n"
     ]
    }
   ],
   "source": [
    "# Finding unique tokens/words\n",
    "def tokenizer(text):\n",
    "    text = re.sub('<[^>]*>', '', text)\n",
    "    emoticons = re.findall('(?::|;|=)(?:-)?(?:\\)|\\(|D|P)', text.lower())\n",
    "    text = re.sub('[\\W]+', ' ', text.lower()) + ' '.join(emoticons).replace('-', '')\n",
    "    tokenized = text.split()\n",
    "    return tokenized\n",
    "\n",
    "token_counts = Counter()\n",
    "\n",
    "for label, line in train_data:\n",
    "    tokens = tokenizer(line)\n",
    "    token_counts.update(tokens)\n",
    "\n",
    "print(f'Vocabulary size: {len(token_counts)}')"
   ]
  },
  {
   "cell_type": "code",
   "execution_count": 4,
   "id": "91486703",
   "metadata": {},
   "outputs": [
    {
     "name": "stdout",
     "output_type": "stream",
     "text": [
      "[11, 7, 35, 460]\n"
     ]
    }
   ],
   "source": [
    "# Text-encoding: tokens to integers\n",
    "sorted_by_freq = sorted(token_counts.items(), key=lambda x: x[1], reverse=True)\n",
    "\n",
    "ordered_dict = OrderedDict(sorted_by_freq)\n",
    "\n",
    "vocab = vocab(ordered_dict)\n",
    "vocab.insert_token(\"<pad>\", 0)\n",
    "vocab.insert_token(\"<unk>\", 1)\n",
    "vocab.set_default_index(1)\n",
    "\n",
    "print([vocab[token] for token in ['this', 'is', 'an', 'example']])"
   ]
  },
  {
   "cell_type": "code",
   "execution_count": 5,
   "id": "8090dc55",
   "metadata": {},
   "outputs": [],
   "source": [
    "# transformation functions\n",
    "\n",
    "# tokenize the text inputs\n",
    "text_pipeline = lambda x: [vocab[token] for token in tokenizer(x)]\n",
    "# convert 'pos' and 'neg' labels to 1, 0\n",
    "label_pipeline = lambda x: 1. if x == 'pos' else 0.\n",
    "\n",
    "\n",
    "# Create a wrapping for the transformation and encoding\n",
    "def collate_batch(batch):\n",
    "    label_list, text_list, lengths = [], [], []\n",
    "\n",
    "    for _label, _text in batch:\n",
    "        processed_text = torch.tensor(text_pipeline(_text), dtype=torch.int64)\n",
    "        \n",
    "        text_list.append(processed_text)\n",
    "        label_list.append(label_pipeline(_label))\n",
    "        lengths.append(processed_text.size(0))\n",
    "    \n",
    "    label_list = torch.tensor(label_list)\n",
    "    lengths = torch.tensor(lengths)\n",
    "    \n",
    "    # Pad to identical length for all inputs\n",
    "    padded_text_list = nn.utils.rnn.pad_sequence(text_list, batch_first=True)\n",
    "\n",
    "    return padded_text_list, label_list, lengths\n",
    "\n",
    "dataloader = DataLoader(train_data, batch_size=4, shuffle=False, collate_fn=collate_batch)"
   ]
  },
  {
   "cell_type": "code",
   "execution_count": 6,
   "id": "390cf2dc",
   "metadata": {},
   "outputs": [
    {
     "name": "stdout",
     "output_type": "stream",
     "text": [
      "tensor([[   10,   218,    11,  ...,     0,     0,     0],\n",
      "        [ 7067,    31,    10,  ...,   117,  3042, 43116],\n",
      "        [  260,    64,   110,  ...,     0,     0,     0],\n",
      "        [   10,   140,   110,  ...,     0,     0,     0]])\n",
      "tensor([0., 0., 0., 0.])\n",
      "torch.Size([4, 261])\n"
     ]
    }
   ],
   "source": [
    "text_batch, label_batch, length_batch = next(iter(dataloader))\n",
    "\n",
    "print(text_batch)\n",
    "print(label_batch)\n",
    "print(text_batch.shape)"
   ]
  },
  {
   "cell_type": "code",
   "execution_count": 15,
   "id": "4d79d1c0",
   "metadata": {},
   "outputs": [],
   "source": [
    "batch_size = 32\n",
    "\n",
    "train_dl = DataLoader(train_data, batch_size=batch_size, shuffle=True, collate_fn=collate_batch)\n",
    "valid_dl = DataLoader(valid_data, batch_size=batch_size, shuffle=False, collate_fn=collate_batch)\n",
    "test_dl = DataLoader(list(test_data), batch_size=batch_size, shuffle=False, collate_fn=collate_batch)"
   ]
  },
  {
   "cell_type": "code",
   "execution_count": 8,
   "id": "65b1857e",
   "metadata": {},
   "outputs": [
    {
     "name": "stdout",
     "output_type": "stream",
     "text": [
      "tensor([[[-1.0324,  1.4106,  1.0425],\n",
      "         [ 0.8986, -0.5944, -0.9850],\n",
      "         [-1.6266, -1.0227,  1.0709],\n",
      "         [ 1.8281, -0.8004, -0.9363]],\n",
      "\n",
      "        [[-1.6266, -1.0227,  1.0709],\n",
      "         [-1.0324,  1.4106,  1.0425],\n",
      "         [ 0.0000,  0.0000,  0.0000],\n",
      "         [-0.0713, -0.3351,  1.5477]]], grad_fn=<EmbeddingBackward0>)\n"
     ]
    }
   ],
   "source": [
    "# We have generated sequences of tokens and padded them to be identical length\n",
    "# Now, these need to be encoded - one-hot encoding would create vectors the size of the vocabulary - 10^4 or 10^5 words\n",
    "\n",
    "# A more compact embedding can rely on real valued vectors - the embedding dimension can be far smaller than the vocab\n",
    "# This also allows for more slient feature extraction since these embedding layers can be optimized\n",
    "# Index 0 is reserved for padding, and index 1 is reserved for words not present in the token set\n",
    "\n",
    "# Given a set of tokens of size n + 2 (the + 2 is for padding and unseen words), generate an embedding\n",
    "# matrix of size (n + 2) x dim(embedding) - this will serve as the input to the NN\n",
    "\n",
    "embedding = nn.Embedding(num_embeddings=10, embedding_dim=3, padding_idx=0)\n",
    "text_encoded_input = torch.LongTensor([[1, 2, 4, 5], [4, 1, 0, 3]])\n",
    "print(embedding(text_encoded_input))"
   ]
  },
  {
   "cell_type": "code",
   "execution_count": 9,
   "id": "a1c5ca5a",
   "metadata": {},
   "outputs": [
    {
     "name": "stdout",
     "output_type": "stream",
     "text": [
      "ExampleRNN(\n",
      "  (rnn): RNN(64, 32, num_layers=2, batch_first=True)\n",
      "  (fc): Linear(in_features=32, out_features=1, bias=True)\n",
      ")\n",
      "tensor([[-0.0734],\n",
      "        [-0.1649],\n",
      "        [-0.2072],\n",
      "        [-0.1533],\n",
      "        [-0.5973]], grad_fn=<AddmmBackward0>)\n"
     ]
    }
   ],
   "source": [
    "class ExampleRNN(nn.Module):\n",
    "    def __init__(self, input_size, hidden_size):\n",
    "        super().__init__()\n",
    "        # Actual RNN layers\n",
    "        self.rnn = nn.RNN(input_size=input_size, hidden_size=hidden_size, num_layers=2, batch_first=True)\n",
    "        # Alternatives to the RNN layers\n",
    "        ## GRU: Gated Recurrent Unit - an alternative to LSTMs\n",
    "        # self.rnn = nn.GRU(input_size=input_size, hidden_size=hidden_size, num_layers=2, batch_first=True)\n",
    "        ## LSTM: Uses LSTM cells\n",
    "        # self.rnn = nn.LSTM(input_size=input_size, hidden_size=hidden_size, num_layers=2, batch_first=True)\n",
    "\n",
    "        # Then add a fully connected non-recurrent layer at the end\n",
    "        self.fc = nn.Linear(in_features=hidden_size, out_features=1)\n",
    "    \n",
    "    def forward(self, x):\n",
    "        _, hidden = self.rnn(x)\n",
    "    \n",
    "        out = hidden[-1, :, :] # Take the final hidden state from the last hidden layer as the input\n",
    "        out = self.fc(out)\n",
    "\n",
    "        return out\n",
    "    \n",
    "model = ExampleRNN(64, 32)\n",
    "print(model)\n",
    "print(model(torch.randn(5, 3, 64)))"
   ]
  },
  {
   "cell_type": "code",
   "execution_count": 10,
   "id": "0b2c982a",
   "metadata": {},
   "outputs": [
    {
     "name": "stdout",
     "output_type": "stream",
     "text": [
      "RNN(\n",
      "  (embedding): Embedding(69211, 20, padding_idx=0)\n",
      "  (rnn): LSTM(20, 64)\n",
      "  (fc1): Linear(in_features=64, out_features=64, bias=True)\n",
      "  (relu): ReLU()\n",
      "  (fc2): Linear(in_features=64, out_features=1, bias=True)\n",
      "  (sigmoid): Sigmoid()\n",
      ")\n"
     ]
    }
   ],
   "source": [
    "# Implement the actual RNN model\n",
    "\n",
    "class RNN(nn.Module):\n",
    "    def __init__(self, vocab_size, embed_dim, rnn_hidden_size, fc_hidden_size) -> None:\n",
    "        super().__init__()\n",
    "\n",
    "        # Start with an embedding layer\n",
    "        self.embedding = nn.Embedding(vocab_size, embedding_dim=embed_dim, padding_idx=0)\n",
    "        # Implement the RNN layer - uses an LSTM here\n",
    "        self.rnn = nn.LSTM(input_size=embed_dim, hidden_size=rnn_hidden_size)\n",
    "\n",
    "        # On to regular fully connected layers\n",
    "        self.fc1 = nn.Linear(in_features=rnn_hidden_size, out_features=fc_hidden_size)\n",
    "        self.relu = nn.ReLU()\n",
    "        self.fc2 = nn.Linear(in_features=fc_hidden_size, out_features=1)\n",
    "        self.sigmoid = nn.Sigmoid()\n",
    "    \n",
    "    def forward(self, text, lengths):\n",
    "        out = self.embedding(text)\n",
    "        # pad sequences to be of the same length, leaving them unsorted\n",
    "        out = nn.utils.rnn.pack_padded_sequence(out, lengths.cpu().numpy(), enforce_sorted=False, batch_first=True)\n",
    "\n",
    "        out, (hidden, cell) = self.rnn(out)\n",
    "        # Take the last time step output\n",
    "        out = hidden[-1, :, :]\n",
    "        out = self.fc1(out)\n",
    "        out = self.relu(out)\n",
    "        out = self.fc2(out)\n",
    "        out = self.sigmoid(out)\n",
    "\n",
    "        return out\n",
    "\n",
    "vocab_size = len(vocab)\n",
    "embed_dim = 20\n",
    "rnn_hidden_size = 64\n",
    "fc_hidden_size = 64\n",
    "\n",
    "torch.manual_seed(42)\n",
    "\n",
    "model = RNN(vocab_size=vocab_size, embed_dim=embed_dim, rnn_hidden_size=rnn_hidden_size, fc_hidden_size=fc_hidden_size)\n",
    "print(model)"
   ]
  },
  {
   "cell_type": "code",
   "execution_count": 11,
   "id": "c75f8b53",
   "metadata": {},
   "outputs": [],
   "source": [
    "loss_fn = nn.BCELoss()\n",
    "optimizer = torch.optim.Adam(model.parameters(), lr=1e-3)\n",
    "\n",
    "def train(dataloader):\n",
    "    model.train()\n",
    "    total_acc, total_loss = 0, 0\n",
    "\n",
    "    for text_batch, label_batch, lengths in dataloader:\n",
    "        optimizer.zero_grad()\n",
    "        pred = model(text_batch, lengths)[:, 0]\n",
    "        loss = loss_fn(pred, label_batch)\n",
    "        loss.backward()\n",
    "        optimizer.step()\n",
    "\n",
    "        total_acc += ((pred >= 0.5).float() == label_batch).float().sum().item()\n",
    "        total_loss += loss.item() * label_batch.size(0)\n",
    "    \n",
    "    return total_acc / len(dataloader.dataset), total_loss / len(dataloader.dataset)\n",
    "\n",
    "def evaluate(dataloader):\n",
    "    model.eval()\n",
    "    total_acc, total_loss = 0, 0\n",
    "\n",
    "    for text_batch, label_batch, lengths in dataloader:\n",
    "        pred = model(text_batch, lengths)[:, 0]\n",
    "        loss = loss_fn(pred, label_batch)\n",
    "        \n",
    "\n",
    "        total_acc += ((pred >= 0.5).float() == label_batch).float().sum().item()\n",
    "        total_loss += loss.item() * label_batch.size(0)\n",
    "    \n",
    "    return total_acc / len(dataloader.dataset), total_loss / len(dataloader.dataset)"
   ]
  },
  {
   "cell_type": "code",
   "execution_count": 12,
   "id": "2d58d929",
   "metadata": {},
   "outputs": [
    {
     "name": "stdout",
     "output_type": "stream",
     "text": [
      "Epoch 0\n",
      "Train Acc: 0.9895, Valid Acc: 1.0000 \n",
      "Epoch 1\n",
      "Train Acc: 1.0000, Valid Acc: 1.0000 \n"
     ]
    }
   ],
   "source": [
    "num_epochs = 2\n",
    "torch.manual_seed(42)\n",
    "loss_hist = {'train': [], 'valid': []}\n",
    "acc_hist = {'train': [], 'valid': []}\n",
    "\n",
    "for epoch in range(num_epochs):\n",
    "    acc, loss = train(train_dl)\n",
    "    loss_hist['train'].append(loss)\n",
    "    acc_hist['train'].append(acc)\n",
    "\n",
    "    acc, loss = evaluate(valid_dl)\n",
    "    loss_hist['valid'].append(loss)\n",
    "    acc_hist['valid'].append(acc)\n",
    "\n",
    "    print(f\"Epoch {epoch}\\nTrain Acc: {acc_hist['train'][-1]:.4f}, Valid Acc: {acc_hist['valid'][-1]:.4f} \")"
   ]
  },
  {
   "cell_type": "code",
   "execution_count": 16,
   "id": "ce3d2401",
   "metadata": {},
   "outputs": [
    {
     "name": "stdout",
     "output_type": "stream",
     "text": [
      "Test accuracy: 1.0000\n"
     ]
    }
   ],
   "source": [
    "acc_test, _ = evaluate(test_dl)\n",
    "print(f'Test accuracy: {acc_test:.4f}')"
   ]
  }
 ],
 "metadata": {
  "kernelspec": {
   "display_name": "torchtextenv",
   "language": "python",
   "name": "python3"
  },
  "language_info": {
   "codemirror_mode": {
    "name": "ipython",
    "version": 3
   },
   "file_extension": ".py",
   "mimetype": "text/x-python",
   "name": "python",
   "nbconvert_exporter": "python",
   "pygments_lexer": "ipython3",
   "version": "3.10.18"
  }
 },
 "nbformat": 4,
 "nbformat_minor": 5
}
