{
 "cells": [
  {
   "cell_type": "code",
   "execution_count": 1,
   "id": "4664937b",
   "metadata": {},
   "outputs": [],
   "source": [
    "import torch\n",
    "import numpy as np"
   ]
  },
  {
   "cell_type": "code",
   "execution_count": 2,
   "id": "f9bb3b8a",
   "metadata": {},
   "outputs": [
    {
     "name": "stdout",
     "output_type": "stream",
     "text": [
      "tensor([ 11,  33, 323])\n",
      "tensor([44, 55, 66], dtype=torch.int32)\n"
     ]
    }
   ],
   "source": [
    "# Creating tensors - this can be done with regular lists or transferred from numpy\n",
    "a = [11, 33, 323]\n",
    "b = np.array([44, 55, 66], dtype=np.int32)\n",
    "\n",
    "t_a = torch.tensor(a)\n",
    "t_b = torch.from_numpy(b)\n",
    "\n",
    "print(t_a)\n",
    "print(t_b)"
   ]
  },
  {
   "cell_type": "code",
   "execution_count": 3,
   "id": "b7f7ec0a",
   "metadata": {},
   "outputs": [
    {
     "name": "stdout",
     "output_type": "stream",
     "text": [
      "torch.Size([2, 3])\n",
      "tensor([[1., 1., 1.],\n",
      "        [1., 1., 1.]])\n",
      "tensor([[0.1524, 0.3442, 0.8729],\n",
      "        [0.6637, 0.5759, 0.2637]])\n"
     ]
    }
   ],
   "source": [
    "# It is possible to use inbuilts to create tensors full of ones or zeros\n",
    "# or random entries\n",
    "t_ones = torch.ones(size=(2, 3))\n",
    "print(t_ones.shape)\n",
    "print(t_ones)\n",
    "\n",
    "rand_tensor = torch.rand(size=(2, 3))\n",
    "print(rand_tensor)"
   ]
  },
  {
   "cell_type": "code",
   "execution_count": 4,
   "id": "4edf13c7",
   "metadata": {},
   "outputs": [
    {
     "name": "stdout",
     "output_type": "stream",
     "text": [
      "torch.int64\n"
     ]
    }
   ],
   "source": [
    "# Change datatypes as needed\n",
    "t_a_new = t_a.to(dtype=torch.int64)\n",
    "print(t_a_new.dtype)"
   ]
  },
  {
   "cell_type": "code",
   "execution_count": 5,
   "id": "7797fe5d",
   "metadata": {},
   "outputs": [
    {
     "name": "stdout",
     "output_type": "stream",
     "text": [
      "Original\n",
      "torch.Size([3, 5])\n",
      "Transpose along dimensions 0 and 1\n",
      "torch.Size([5, 3])\n",
      "Reshaped to 1 row and 15 columns\n",
      "torch.Size([1, 15])\n",
      "Original shape: torch.Size([1, 2, 1, 3, 1]) -> Squeezed shape: torch.Size([1, 2, 3, 1])\n"
     ]
    }
   ],
   "source": [
    "# We can change the tensorial dimensions as needed\n",
    "t = torch.rand(3, 5)\n",
    "print('Original')\n",
    "print(t.shape)\n",
    "\n",
    "# Transposing\n",
    "t_tr = torch.transpose(t, 0, 1) # Swaps dim0 = 0 and dim1 = 1\n",
    "print('Transpose along dimensions 0 and 1')\n",
    "print(t_tr.shape)\n",
    "\n",
    "# Forcefully reshape\n",
    "t_reshape = t.reshape(1, 15)\n",
    "print('Reshaped to 1 row and 15 columns')\n",
    "print(t_reshape.shape)\n",
    "\n",
    "# Remove unnecessary dimensions (i.e. dimensions that have size 1)\n",
    "t = torch.zeros(1, 2, 1, 3, 1)\n",
    "# Squeeze only dimension indexed 2. dim=None will squeeze out all dimensions of size 1\n",
    "t_squeeze = torch.squeeze(t, dim=2)\n",
    "\n",
    "print('Original shape:', t.shape, '-> Squeezed shape:', t_squeeze.shape)"
   ]
  },
  {
   "cell_type": "code",
   "execution_count": 6,
   "id": "f66e3a41",
   "metadata": {},
   "outputs": [
    {
     "name": "stdout",
     "output_type": "stream",
     "text": [
      "hadamard(t1, t2)\n",
      "tensor([[ 1.6883, -0.5295, -0.1082],\n",
      "        [ 0.2456, -0.1172,  0.1633],\n",
      "        [-0.5406, -0.9924, -0.8718],\n",
      "        [-0.7028,  1.1492,  0.1529]])\n",
      "\n",
      "Row-wise mean of t1\n",
      "tensor([0.1157, 0.5168, 0.2591])\n",
      "Row-wise standard deviation of t1\n",
      "tensor([0.8466, 0.5062, 0.4616])\n",
      "\n",
      "t1 . t2^T\n",
      "tensor([[ 1.0506,  0.4588, -0.3220,  1.6383],\n",
      "        [ 2.2614,  0.2917,  1.1906,  0.7552],\n",
      "        [-1.0428,  0.8975, -2.4048,  1.0305],\n",
      "        [-2.0881,  0.4203, -2.4684,  0.5993]])\n",
      "\n",
      "t1^T . t2\n",
      "tensor([[ 0.6905, -0.1437,  0.9784],\n",
      "        [ 3.2590, -0.4899,  0.3353],\n",
      "        [ 0.6947, -0.9848, -0.6637]])\n",
      "\n",
      "L2 norm of t1, column-wise\n",
      "tensor([1.1525, 0.9657, 1.1658, 1.1527])\n"
     ]
    }
   ],
   "source": [
    "# Mathematical operations\n",
    "torch.manual_seed(42)\n",
    "\n",
    "# Scalar multiplication and element-wise subtraction\n",
    "t1 = 2 * torch.rand(4, 3) - 1\n",
    "\n",
    "# Create a normally distributed random tensor\n",
    "t2 = torch.normal(mean=0, std=1, size=(4, 3))\n",
    "\n",
    "# Hadamard (element-wise) multiplication\n",
    "t3 = torch.multiply(t1, t2)\n",
    "print(\"hadamard(t1, t2)\")\n",
    "print(t3)\n",
    "\n",
    "# Descriptive stats along an axis\n",
    "t4 = torch.mean(t1, axis=0)\n",
    "print(\"\\nRow-wise mean of t1\")\n",
    "print(t4)\n",
    "print(\"Row-wise standard deviation of t1\")\n",
    "t5 = torch.std(t1, axis=0)\n",
    "print(t5)\n",
    "\n",
    "# Matrix multiplication 4 x 3 and 3 x 4 should produce a 4 x 4 (transposing t2 creates a 3 x 4)\n",
    "t6 = torch.matmul(t1, torch.transpose(t2, 0, 1))\n",
    "print(\"\\nt1 . t2^T\")\n",
    "print(t6)\n",
    "# Similarly we can do a 3 x 4  by 4 x 3\n",
    "t7 = torch.matmul(torch.transpose(t1, 0, 1), t2)\n",
    "print(\"\\nt1^T . t2\")\n",
    "print(t7)\n",
    "\n",
    "# Norms: L_p norm \n",
    "# ord <-> p, dim <-> axis\n",
    "norm_t1 = torch.linalg.norm(t1, ord=2, dim=1)\n",
    "print(\"\\nL2 norm of t1, column-wise\")\n",
    "print(norm_t1)"
   ]
  },
  {
   "cell_type": "code",
   "execution_count": 10,
   "id": "9fff226c",
   "metadata": {},
   "outputs": [
    {
     "name": "stdout",
     "output_type": "stream",
     "text": [
      "tensor([0.6440, 0.7071, 0.6581, 0.4913, 0.8913, 0.1447])\n",
      "\n",
      "Split into 3 chunks:\n",
      "(tensor([0.6440, 0.7071]), tensor([0.6581, 0.4913]), tensor([0.8913, 0.1447]))\n",
      "\n",
      "Split into a size 4 tensor and a size 2 tensor:\n",
      "(tensor([0.6440, 0.7071, 0.6581, 0.4913]), tensor([0.8913, 0.1447]))\n",
      "\n",
      "A and B:\n",
      "tensor([1., 1., 1.])\n",
      "tensor([0., 0., 0.])\n",
      "\n",
      "Concatenation of A and B along the row axis:\n",
      "tensor([1., 1., 1., 0., 0., 0.])\n",
      "\n",
      "Stacked column-wise:\n",
      "tensor([[1., 0.],\n",
      "        [1., 0.],\n",
      "        [1., 0.]])\n",
      "\n",
      "Stacked row-wise:\n",
      "tensor([[1., 1., 1.],\n",
      "        [0., 0., 0.]])\n"
     ]
    }
   ],
   "source": [
    "# Split, stack, concat\n",
    "t = torch.rand(6)\n",
    "print(t)\n",
    "\n",
    "# chunk allows us to break tensors into equal parts along a specific dimension \"dim\"\n",
    "t_chunks = torch.chunk(t, chunks=3)\n",
    "print(\"\\nSplit into 3 chunks:\")\n",
    "print(t_chunks)\n",
    "\n",
    "# split allows us to specify the exact size of the tensors to break into\n",
    "t_splits = torch.split(t, split_size_or_sections=[4, 2])\n",
    "print(\"\\nSplit into a size 4 tensor and a size 2 tensor:\")\n",
    "print(t_splits)\n",
    "\n",
    "\n",
    "# Concatenation:\n",
    "A = torch.ones(3)\n",
    "B = torch.zeros(3)\n",
    "print(\"\\nA and B:\")\n",
    "print(A)\n",
    "print(B)\n",
    "\n",
    "# Append row-wise\n",
    "C = torch.cat([A, B], axis=0)\n",
    "print(\"\\nConcatenation of A and B along the row axis:\")\n",
    "print(C)\n",
    "\n",
    "# Stack column-wise\n",
    "Sc = torch.stack([A, B], axis=1)\n",
    "# Stack row-wise\n",
    "Sr = torch.stack([A, B], axis=0)\n",
    "\n",
    "print(\"\\nStacked column-wise:\")\n",
    "print(Sc)\n",
    "\n",
    "print(\"\\nStacked row-wise:\")\n",
    "print(Sr)"
   ]
  }
 ],
 "metadata": {
  "kernelspec": {
   "display_name": "dataexercises",
   "language": "python",
   "name": "python3"
  },
  "language_info": {
   "codemirror_mode": {
    "name": "ipython",
    "version": 3
   },
   "file_extension": ".py",
   "mimetype": "text/x-python",
   "name": "python",
   "nbconvert_exporter": "python",
   "pygments_lexer": "ipython3",
   "version": "3.13.2"
  }
 },
 "nbformat": 4,
 "nbformat_minor": 5
}
