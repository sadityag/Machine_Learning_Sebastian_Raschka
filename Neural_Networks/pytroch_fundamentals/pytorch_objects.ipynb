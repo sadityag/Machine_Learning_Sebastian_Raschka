{
 "cells": [
  {
   "cell_type": "code",
   "execution_count": 2,
   "id": "4664937b",
   "metadata": {},
   "outputs": [],
   "source": [
    "import torch\n",
    "import numpy as np"
   ]
  },
  {
   "cell_type": "code",
   "execution_count": null,
   "id": "f9bb3b8a",
   "metadata": {},
   "outputs": [
    {
     "name": "stdout",
     "output_type": "stream",
     "text": [
      "tensor([ 11,  33, 323])\n",
      "tensor([44, 55, 66], dtype=torch.int32)\n"
     ]
    }
   ],
   "source": [
    "# Creating tensors - this can be done with regular lists or transferred from numpy\n",
    "a = [11, 33, 323]\n",
    "b = np.array([44, 55, 66], dtype=np.int32)\n",
    "\n",
    "t_a = torch.tensor(a)\n",
    "t_b = torch.from_numpy(b)\n",
    "\n",
    "print(t_a)\n",
    "print(t_b)"
   ]
  },
  {
   "cell_type": "code",
   "execution_count": 10,
   "id": "b7f7ec0a",
   "metadata": {},
   "outputs": [
    {
     "name": "stdout",
     "output_type": "stream",
     "text": [
      "torch.Size([2, 3])\n",
      "tensor([[1., 1., 1.],\n",
      "        [1., 1., 1.]])\n",
      "tensor([[0.8901, 0.4971, 0.4889],\n",
      "        [0.3748, 0.4090, 0.4263]])\n"
     ]
    }
   ],
   "source": [
    "# It is possible to use inbuilts to create tensors full of ones or zeros\n",
    "# or random entries\n",
    "t_ones = torch.ones(size=(2, 3))\n",
    "print(t_ones.shape)\n",
    "print(t_ones)\n",
    "\n",
    "rand_tensor = torch.rand(size=(2, 3))\n",
    "print(rand_tensor)"
   ]
  },
  {
   "cell_type": "code",
   "execution_count": 9,
   "id": "4edf13c7",
   "metadata": {},
   "outputs": [
    {
     "name": "stdout",
     "output_type": "stream",
     "text": [
      "torch.int64\n"
     ]
    }
   ],
   "source": [
    "t_a_new = t_a.to(dtype=torch.int64)\n",
    "print(t_a_new.dtype)"
   ]
  },
  {
   "cell_type": "code",
   "execution_count": null,
   "id": "7797fe5d",
   "metadata": {},
   "outputs": [],
   "source": []
  }
 ],
 "metadata": {
  "kernelspec": {
   "display_name": "machinelearning",
   "language": "python",
   "name": "python3"
  },
  "language_info": {
   "codemirror_mode": {
    "name": "ipython",
    "version": 3
   },
   "file_extension": ".py",
   "mimetype": "text/x-python",
   "name": "python",
   "nbconvert_exporter": "python",
   "pygments_lexer": "ipython3",
   "version": "3.13.5"
  }
 },
 "nbformat": 4,
 "nbformat_minor": 5
}
