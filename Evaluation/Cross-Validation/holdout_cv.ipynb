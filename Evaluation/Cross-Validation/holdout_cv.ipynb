{
 "cells": [
  {
   "cell_type": "markdown",
   "id": "1a71f90e",
   "metadata": {},
   "source": [
    "Using the holdout cross-validation is as simple as further splitting a training set into a training and validation subset. The validation subset is meant for tuning model hyperparameters, and more generally, for model selection. The testing subset is then used to evaluate how well the best performing model actually performs when generalizing to unseen data. This avoids overfitting to the test data, since it has been selected to be good for the validation set instead.\n",
    "\n",
    "The holdout method is sensitive to the choice of data splits, and can end up losing more valuable data, which can be problematic in cases where large datasets are unavailable.\n",
    "\n",
    "There will be no implementation here, but the sequential backwards selection module provides an example for it, and multiple uses of sklearn.model_selection.train_test_split suffices for this."
   ]
  }
 ],
 "metadata": {
  "language_info": {
   "name": "python"
  }
 },
 "nbformat": 4,
 "nbformat_minor": 5
}
