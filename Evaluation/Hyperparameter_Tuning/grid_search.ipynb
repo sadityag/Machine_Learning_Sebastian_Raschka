{
 "cells": [
  {
   "cell_type": "code",
   "execution_count": 1,
   "id": "7d294eea",
   "metadata": {},
   "outputs": [],
   "source": [
    "import numpy as np\n",
    "import pandas as pd\n",
    "import matplotlib.pyplot as plt\n",
    "from sklearn.pipeline import make_pipeline\n",
    "from sklearn.preprocessing import StandardScaler, LabelEncoder\n",
    "from sklearn.model_selection import train_test_split\n",
    "from sklearn.svm import SVC"
   ]
  },
  {
   "cell_type": "code",
   "execution_count": 2,
   "id": "c380c282",
   "metadata": {},
   "outputs": [
    {
     "name": "stdout",
     "output_type": "stream",
     "text": [
      "1\n",
      "B    357\n",
      "M    212\n",
      "Name: count, dtype: int64\n"
     ]
    }
   ],
   "source": [
    "df = pd.read_csv('https://archive.ics.uci.edu/ml/machine-learning-databases/breast-cancer-wisconsin/wdbc.data', header=None)\n",
    "# Breast cancer data, with diagnosis as target variable\n",
    "print(df.loc[:, 1].value_counts())\n",
    "\n",
    "y = df.loc[:, 1].values\n",
    "X = df.loc[:, 2:].values\n",
    "\n",
    "le = LabelEncoder()\n",
    "y = le.fit_transform(y)\n",
    "\n",
    "X_train, X_test, y_train, y_test = train_test_split(X, y, test_size=0.25, stratify=y, random_state=42)"
   ]
  },
  {
   "cell_type": "code",
   "execution_count": 3,
   "id": "604838de",
   "metadata": {},
   "outputs": [
    {
     "name": "stdout",
     "output_type": "stream",
     "text": [
      "Grid Search best accuracy score: 0.977.\n",
      "Grid Search best parameters: {'svc__C': np.float64(100.0), 'svc__gamma': np.float64(0.01), 'svc__kernel': 'rbf'}\n"
     ]
    }
   ],
   "source": [
    "from sklearn.model_selection import GridSearchCV\n",
    "# Grid searches literally just brute forces the search for values of hyperparameters over the specified grid\n",
    "\n",
    "pipe_svc = make_pipeline(StandardScaler(),\n",
    "                         SVC(random_state=42))\n",
    "\n",
    "param_range = np.logspace(-4, 3, 8)\n",
    "param_grid = [{'svc__C': param_range,\n",
    "               'svc__kernel': ['linear']}, \n",
    "# For the linear kernel in SVC, scan over regularization strengths\n",
    "              {'svc__C': param_range,\n",
    "               'svc__gamma': param_range,\n",
    "               'svc__kernel': ['rbf']}] \n",
    "# For the RBF (Gaussian) kernel, scan over different regularlization strengths as well as different Gaussian widths\n",
    "\n",
    "gs = GridSearchCV(estimator=pipe_svc,\n",
    "                  param_grid=param_grid,\n",
    "                  scoring='accuracy',\n",
    "                  cv=10,\n",
    "                  refit=True, # Refits to the whole training set automatically after finding the best one\n",
    "                  n_jobs=-1).fit(X_train, y_train)\n",
    "\n",
    "print(f\"Grid Search best accuracy score: {gs.best_score_:.3f}.\")\n",
    "print(f\"Grid Search best parameters: {gs.best_params_}\")"
   ]
  },
  {
   "cell_type": "code",
   "execution_count": 4,
   "id": "89152597",
   "metadata": {},
   "outputs": [
    {
     "name": "stdout",
     "output_type": "stream",
     "text": [
      "Test accuracy: 0.958\n"
     ]
    }
   ],
   "source": [
    "# We can now retreive the best estimator\n",
    "classifier = gs.best_estimator_\n",
    "# classifier.fit(X_train, y_train) # Unnecessary since we set refit to True\n",
    "print(f'Test accuracy: {classifier.score(X_test, y_test):.3f}')"
   ]
  },
  {
   "cell_type": "markdown",
   "id": "3846398b",
   "metadata": {},
   "source": [
    "It is worth noting that the Grid Search is particularly sensitive to the choice of grid points, and a finer search will usually yield better results at the cost of search time. It is possible to switch over to a randomized search style, at the cost of possibly more random results. This is typically less time intensive."
   ]
  }
 ],
 "metadata": {
  "kernelspec": {
   "display_name": "dataexercises",
   "language": "python",
   "name": "python3"
  },
  "language_info": {
   "codemirror_mode": {
    "name": "ipython",
    "version": 3
   },
   "file_extension": ".py",
   "mimetype": "text/x-python",
   "name": "python",
   "nbconvert_exporter": "python",
   "pygments_lexer": "ipython3",
   "version": "3.13.2"
  }
 },
 "nbformat": 4,
 "nbformat_minor": 5
}
