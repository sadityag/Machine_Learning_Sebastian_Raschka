{
 "cells": [
  {
   "cell_type": "markdown",
   "id": "a3a61c8a",
   "metadata": {},
   "source": [
    "Nested CV starts off with a traditional $k$-fold CV split on the training set. Then, for each of the $k$ folds, there is a training fold and a test fold. The training fold is split further into $k'$ folds which have a training 'subfold' and a validation 'subfold'. After the training and validation on the inner $k'$ folds to find the optimal hyperparameters, testing is done on the test fold of the outer $k$ fold, and iterated over all of the $k$ folds.\n",
    "\n",
    "This method is supposed to provide an almost unbiased error estimate on the methods being used: (Bias in Error Estimation When Using Cross-Validation for Model Selection by S. Varma and R. Simon, BMC Bioinformatics, 7(1): 91, 2006, https://bmcbioinformatics.biomedcentral.com/articles/10.1186/1471-2105-7-91)."
   ]
  },
  {
   "cell_type": "code",
   "execution_count": 1,
   "id": "d2e871dd",
   "metadata": {},
   "outputs": [],
   "source": [
    "import numpy as np\n",
    "import pandas as pd\n",
    "\n",
    "import matplotlib.pyplot as plt\n",
    "\n",
    "from sklearn.pipeline import make_pipeline\n",
    "from sklearn.preprocessing import StandardScaler, LabelEncoder\n",
    "from sklearn.model_selection import train_test_split\n",
    "\n",
    "from sklearn.svm import SVC\n",
    "from sklearn.tree import DecisionTreeClassifier\n",
    "#Algorithms to compare\n",
    "\n",
    "from sklearn.model_selection import GridSearchCV, cross_val_score"
   ]
  },
  {
   "cell_type": "code",
   "execution_count": 2,
   "id": "cea42064",
   "metadata": {},
   "outputs": [
    {
     "name": "stdout",
     "output_type": "stream",
     "text": [
      "1\n",
      "B    357\n",
      "M    212\n",
      "Name: count, dtype: int64\n"
     ]
    }
   ],
   "source": [
    "df = pd.read_csv('https://archive.ics.uci.edu/ml/machine-learning-databases/breast-cancer-wisconsin/wdbc.data', header=None)\n",
    "# Breast cancer data, with diagnosis as target variable\n",
    "print(df.loc[:, 1].value_counts())\n",
    "\n",
    "y = df.loc[:, 1].values\n",
    "X = df.loc[:, 2:].values\n",
    "\n",
    "le = LabelEncoder()\n",
    "y = le.fit_transform(y)\n",
    "\n",
    "X_train, X_test, y_train, y_test = train_test_split(X, y, test_size=0.25, stratify=y, random_state=42)"
   ]
  },
  {
   "cell_type": "code",
   "execution_count": 3,
   "id": "9d333ec3",
   "metadata": {},
   "outputs": [
    {
     "name": "stdout",
     "output_type": "stream",
     "text": [
      "Decision tree CV accuracy = 0.925 +/- 0.030.\n"
     ]
    }
   ],
   "source": [
    "# We will implement a 5 x 2 nested CV scheme here\n",
    "# Since k = 5, we will use the grid search in the inner k' = 2 folds to optimize the estimator\n",
    "# And on the outer folds, we use the optimal parameters to test\n",
    "\n",
    "gs_dt = GridSearchCV(estimator=DecisionTreeClassifier(random_state=42),\n",
    "                  param_grid=[{'max_depth': [1, 2, 3, 4, 5, 6, 7, None]}],\n",
    "                  scoring='accuracy',\n",
    "                  cv=2)\n",
    "\n",
    "scores = cross_val_score(gs_dt, X_train, y_train, scoring='accuracy', cv=5)\n",
    "\n",
    "print(f\"Decision tree CV accuracy = {np.mean(scores):.3f} +/- {np.std(scores):.3f}.\")"
   ]
  },
  {
   "cell_type": "code",
   "execution_count": 4,
   "id": "059f31fc",
   "metadata": {},
   "outputs": [
    {
     "name": "stdout",
     "output_type": "stream",
     "text": [
      "SVM CV accuracy = 0.972 +/- 0.006.\n"
     ]
    }
   ],
   "source": [
    "pipe_svc = make_pipeline(StandardScaler(),\n",
    "                         SVC(random_state=42))\n",
    "\n",
    "param_range = np.logspace(-4, 3, 8)\n",
    "param_grid = [{'svc__C': param_range,\n",
    "               'svc__kernel': ['linear']}, \n",
    "# For the linear kernel in SVC, scan over regularization strengths\n",
    "              {'svc__C': param_range,\n",
    "               'svc__gamma': param_range,\n",
    "               'svc__kernel': ['rbf']}] \n",
    "# For the RBF (Gaussian) kernel, scan over different regularlization strengths as well as different Gaussian widths\n",
    "\n",
    "gs_svc = GridSearchCV(estimator=pipe_svc,\n",
    "                  param_grid=param_grid,\n",
    "                  scoring='accuracy',\n",
    "                  cv=2,\n",
    "                  refit=True, # Refits to the whole training set automatically after finding the best one\n",
    "                  n_jobs=-1).fit(X_train, y_train)\n",
    "\n",
    "scores = cross_val_score(gs_svc, X_train, y_train, cv=5, scoring='accuracy')\n",
    "\n",
    "print(f\"SVM CV accuracy = {np.mean(scores):.3f} +/- {np.std(scores):.3f}.\")"
   ]
  }
 ],
 "metadata": {
  "kernelspec": {
   "display_name": "dataexercises",
   "language": "python",
   "name": "python3"
  },
  "language_info": {
   "codemirror_mode": {
    "name": "ipython",
    "version": 3
   },
   "file_extension": ".py",
   "mimetype": "text/x-python",
   "name": "python",
   "nbconvert_exporter": "python",
   "pygments_lexer": "ipython3",
   "version": "3.13.2"
  }
 },
 "nbformat": 4,
 "nbformat_minor": 5
}
