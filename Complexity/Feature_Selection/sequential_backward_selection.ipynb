{
 "cells": [
  {
   "cell_type": "code",
   "execution_count": 1,
   "id": "5242ce7d",
   "metadata": {},
   "outputs": [],
   "source": [
    "import pandas as pd\n",
    "import numpy as np\n",
    "\n",
    "import seaborn as sns\n",
    "import matplotlib.pyplot as plt\n",
    "\n",
    "from sklearn.neighbors import KNeighborsClassifier\n",
    "from sequential_backward_selection import SequentialBackwardSelection\n",
    "\n",
    "from sklearn.model_selection import train_test_split\n",
    "from sklearn.preprocessing import StandardScaler"
   ]
  },
  {
   "cell_type": "code",
   "execution_count": 2,
   "id": "7f75a983",
   "metadata": {},
   "outputs": [],
   "source": [
    "df_wine = pd.read_csv('https://archive.ics.uci.edu/ml/machine-learning-databases/wine/wine.data', header=None)\n",
    "df_wine.columns = ['Class label', 'Alcohol', 'Malic acid', 'Ash', 'Alcalinity of ash', 'Magnesium', 'Total phenols', 'Flavanoids', 'Nonflavanoid phenols', 'Proanthocyanins', 'Color intensity', 'Hue',\n",
    " 'OD280/OD315 of diluted wines', 'Proline']\n",
    "\n",
    "X, y = df_wine.iloc[:, 1:].values, df_wine.iloc[:, 0].values\n",
    "# This is the true test set. The split inside the sequential backward selection is for validation\n",
    "X_train, X_test, y_train, y_test = train_test_split(X, y, test_size=0.3, random_state=42, stratify=y)\n",
    "\n",
    "sc = StandardScaler()\n",
    "X_train_std = sc.fit_transform(X_train)\n",
    "X_test_std = sc.transform(X_test)"
   ]
  },
  {
   "cell_type": "code",
   "execution_count": 3,
   "id": "939c1710",
   "metadata": {},
   "outputs": [],
   "source": [
    "nbrs = 5\n",
    "knn = KNeighborsClassifier(n_neighbors=nbrs)\n",
    "sbs = SequentialBackwardSelection(model=knn, k_features=1, test_size=0.25)\n",
    "\n",
    "X_train_relevant = sbs.fit_transform(X=X_train_std, y=y_train)"
   ]
  },
  {
   "cell_type": "code",
   "execution_count": 4,
   "id": "4f95effc",
   "metadata": {},
   "outputs": [
    {
     "data": {
      "image/png": "[encoded data removed]",
      "text/plain": [
       "<Figure size 640x480 with 1 Axes>"
      ]
     },
     "metadata": {},
     "output_type": "display_data"
    }
   ],
   "source": [
    "num_features = [len(k) for k in sbs.subsets_]\n",
    "\n",
    "sns.lineplot(x=num_features, y=np.array(sbs.scores_)*100, marker='o', color='red')\n",
    "plt.xlabel('Number of Features')\n",
    "plt.ylabel('Percentage Accuracy')\n",
    "plt.grid()\n",
    "plt.tight_layout()\n",
    "plt.show()"
   ]
  },
  {
   "cell_type": "code",
   "execution_count": 5,
   "id": "120f0db2",
   "metadata": {},
   "outputs": [
    {
     "name": "stdout",
     "output_type": "stream",
     "text": [
      "['Alcohol' 'Alcalinity of ash' 'Total phenols'\n",
      " 'OD280/OD315 of diluted wines']\n"
     ]
    }
   ],
   "source": [
    "# Curse of dimensionality kicks in after n = 7 best features\n",
    "# Now which 4 do so well at predicting this (getting 100%)?\n",
    "\n",
    "max_features = 13\n",
    "num_features_desired = 4\n",
    "print(df_wine.columns[1:][sbs.subsets_[max_features - num_features_desired]].values)\n",
    "\n",
    "best_desired = sbs.subsets_[max_features - num_features_desired]"
   ]
  },
  {
   "cell_type": "code",
   "execution_count": 6,
   "id": "d3beb777",
   "metadata": {},
   "outputs": [
    {
     "name": "stdout",
     "output_type": "stream",
     "text": [
      "Training accuracy: 0.9838709677419355\n",
      "Test accuracy: 0.9444444444444444\n"
     ]
    }
   ],
   "source": [
    "# On the original dataset with all features\n",
    "knn.fit(X_train_std, y_train)\n",
    "print('Training accuracy:', knn.score(X_train_std, y_train))\n",
    "print('Test accuracy:', knn.score(X_test_std, y_test))"
   ]
  },
  {
   "cell_type": "code",
   "execution_count": 7,
   "id": "8bd1c4a7",
   "metadata": {},
   "outputs": [
    {
     "name": "stdout",
     "output_type": "stream",
     "text": [
      "Training accuracy: 0.9516129032258065\n",
      "Test accuracy: 0.8703703703703703\n"
     ]
    }
   ],
   "source": [
    "knn.fit(X_train_std[:, best_desired], y_train)\n",
    "print('Training accuracy:', knn.score(X_train_std[:, best_desired], y_train))\n",
    "print('Test accuracy:', knn.score(X_test_std[:, best_desired], y_test))"
   ]
  },
  {
   "cell_type": "code",
   "execution_count": 22,
   "id": "dc1fcb03",
   "metadata": {},
   "outputs": [
    {
     "name": "stdout",
     "output_type": "stream",
     "text": [
      "Training score: 79.84%.\n",
      "Test score: 68.52%.\n"
     ]
    }
   ],
   "source": [
    "# This has also been implemented in sklearn\n",
    "from sklearn.feature_selection import SequentialFeatureSelector\n",
    "# This can do a forward selection or a backward selection (add features or subtract them in a greedy way)\n",
    "# The selection criteria is a cross validator (default is 5-fold)\n",
    "\n",
    "knn = KNeighborsClassifier(n_neighbors=5)\n",
    "sfs_back = SequentialFeatureSelector(knn, direction='backward', cv=4, n_features_to_select=1)\n",
    "sfs_forward = SequentialFeatureSelector(knn, direction='forward', cv=4, n_features_to_select=12)\n",
    "\n",
    "sfs_back.fit(X_train_std, y=y_train)\n",
    "sfs_forward.fit(X_train_std, y_train)\n",
    "\n",
    "X_rel = sfs_back.transform(X_train_std)\n",
    "\n",
    "knn.fit(X_rel, y_train)\n",
    "print(f\"Training score: {knn.score(sfs_back.transform(X_train_std), y_train) * 100:.2f}%.\")\n",
    "print(f\"Test score: {knn.score(sfs_back.transform(X_test_std), y_test) * 100:.2f}%.\")"
   ]
  },
  {
   "cell_type": "code",
   "execution_count": 27,
   "id": "880c7fdf",
   "metadata": {},
   "outputs": [
    {
     "name": "stdout",
     "output_type": "stream",
     "text": [
      "12\n",
      "Training score: 97.58%.\n",
      "Test score: 94.44%.\n"
     ]
    }
   ],
   "source": [
    "# An easier way to do this: use a tolerance for the amount that this is changing\n",
    "knn = KNeighborsClassifier(n_neighbors=5)\n",
    "sfs_back = SequentialFeatureSelector(knn, direction='backward', cv=4, n_features_to_select='auto', tol=0.1)\n",
    "sfs_back.fit(X_train_std, y=y_train)\n",
    "\n",
    "X_rel = sfs_back.transform(X_train_std)\n",
    "print(X_rel.shape[1])\n",
    "\n",
    "knn.fit(X_rel, y_train)\n",
    "print(f\"Training score: {knn.score(sfs_back.transform(X_train_std), y_train) * 100:.2f}%.\")\n",
    "print(f\"Test score: {knn.score(sfs_back.transform(X_test_std), y_test) * 100:.2f}%.\")"
   ]
  },
  {
   "cell_type": "code",
   "execution_count": null,
   "id": "53afc75f",
   "metadata": {},
   "outputs": [],
   "source": []
  }
 ],
 "metadata": {
  "kernelspec": {
   "display_name": "dataexercises",
   "language": "python",
   "name": "python3"
  },
  "language_info": {
   "codemirror_mode": {
    "name": "ipython",
    "version": 3
   },
   "file_extension": ".py",
   "mimetype": "text/x-python",
   "name": "python",
   "nbconvert_exporter": "python",
   "pygments_lexer": "ipython3",
   "version": "3.13.2"
  }
 },
 "nbformat": 4,
 "nbformat_minor": 5
}
